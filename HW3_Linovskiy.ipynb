{
  "cells": [
    {
      "cell_type": "markdown",
      "metadata": {
        "id": "view-in-github",
        "colab_type": "text"
      },
      "source": [
        "<a href=\"https://colab.research.google.com/github/Gogalino/Transcriptomics/blob/main/HW3_Linovskiy.ipynb\" target=\"_parent\"><img src=\"https://colab.research.google.com/assets/colab-badge.svg\" alt=\"Open In Colab\"/></a>"
      ]
    },
    {
      "cell_type": "markdown",
      "metadata": {
        "id": "RrtSGMP32hrX"
      },
      "source": [
        "# Workshop #5. Basics of `scanpy`"
      ]
    },
    {
      "cell_type": "markdown",
      "metadata": {
        "id": "UTOeqAl92p_I"
      },
      "source": [
        "Firstly, let's install necessary Python packages."
      ]
    },
    {
      "cell_type": "code",
      "execution_count": null,
      "metadata": {
        "colab": {
          "base_uri": "https://localhost:8080/"
        },
        "id": "POnS7QjV2bB9",
        "outputId": "dfa01c64-cec5-48ed-a04b-3e773c6e5d60"
      },
      "outputs": [
        {
          "name": "stdout",
          "output_type": "stream",
          "text": [
            "Requirement already satisfied: scanpy[leiden] in /usr/local/lib/python3.10/dist-packages (1.10.2)\n",
            "Collecting scrublet\n",
            "  Downloading scrublet-0.2.3-py3-none-any.whl (15 kB)\n",
            "Requirement already satisfied: anndata>=0.8 in /usr/local/lib/python3.10/dist-packages (from scanpy[leiden]) (0.10.8)\n",
            "Requirement already satisfied: h5py>=3.1 in /usr/local/lib/python3.10/dist-packages (from scanpy[leiden]) (3.9.0)\n",
            "Requirement already satisfied: joblib in /usr/local/lib/python3.10/dist-packages (from scanpy[leiden]) (1.4.2)\n",
            "Requirement already satisfied: legacy-api-wrap>=1.4 in /usr/local/lib/python3.10/dist-packages (from scanpy[leiden]) (1.4)\n",
            "Requirement already satisfied: matplotlib>=3.6 in /usr/local/lib/python3.10/dist-packages (from scanpy[leiden]) (3.7.1)\n",
            "Requirement already satisfied: natsort in /usr/local/lib/python3.10/dist-packages (from scanpy[leiden]) (8.4.0)\n",
            "Requirement already satisfied: networkx>=2.7 in /usr/local/lib/python3.10/dist-packages (from scanpy[leiden]) (3.3)\n",
            "Requirement already satisfied: numba>=0.56 in /usr/local/lib/python3.10/dist-packages (from scanpy[leiden]) (0.58.1)\n",
            "Requirement already satisfied: numpy<2,>=1.23 in /usr/local/lib/python3.10/dist-packages (from scanpy[leiden]) (1.25.2)\n",
            "Requirement already satisfied: packaging>=21.3 in /usr/local/lib/python3.10/dist-packages (from scanpy[leiden]) (24.1)\n",
            "Requirement already satisfied: pandas>=1.5 in /usr/local/lib/python3.10/dist-packages (from scanpy[leiden]) (2.0.3)\n",
            "Requirement already satisfied: patsy in /usr/local/lib/python3.10/dist-packages (from scanpy[leiden]) (0.5.6)\n",
            "Requirement already satisfied: pynndescent>=0.5 in /usr/local/lib/python3.10/dist-packages (from scanpy[leiden]) (0.5.13)\n",
            "Requirement already satisfied: scikit-learn>=0.24 in /usr/local/lib/python3.10/dist-packages (from scanpy[leiden]) (1.2.2)\n",
            "Requirement already satisfied: scipy>=1.8 in /usr/local/lib/python3.10/dist-packages (from scanpy[leiden]) (1.11.4)\n",
            "Requirement already satisfied: seaborn>=0.13 in /usr/local/lib/python3.10/dist-packages (from scanpy[leiden]) (0.13.1)\n",
            "Requirement already satisfied: session-info in /usr/local/lib/python3.10/dist-packages (from scanpy[leiden]) (1.0.0)\n",
            "Requirement already satisfied: statsmodels>=0.13 in /usr/local/lib/python3.10/dist-packages (from scanpy[leiden]) (0.14.2)\n",
            "Requirement already satisfied: tqdm in /usr/local/lib/python3.10/dist-packages (from scanpy[leiden]) (4.66.4)\n",
            "Requirement already satisfied: umap-learn!=0.5.0,>=0.5 in /usr/local/lib/python3.10/dist-packages (from scanpy[leiden]) (0.5.6)\n",
            "Collecting igraph>=0.10 (from scanpy[leiden])\n",
            "  Downloading igraph-0.11.5-cp39-abi3-manylinux_2_17_x86_64.manylinux2014_x86_64.whl (3.3 MB)\n",
            "\u001b[2K     \u001b[90m━━━━━━━━━━━━━━━━━━━━━━━━━━━━━━━━━━━━━━━━\u001b[0m \u001b[32m3.3/3.3 MB\u001b[0m \u001b[31m43.2 MB/s\u001b[0m eta \u001b[36m0:00:00\u001b[0m\n",
            "\u001b[?25hCollecting leidenalg>=0.9.0 (from scanpy[leiden])\n",
            "  Downloading leidenalg-0.10.2-cp38-abi3-manylinux_2_17_x86_64.manylinux2014_x86_64.whl (2.0 MB)\n",
            "\u001b[2K     \u001b[90m━━━━━━━━━━━━━━━━━━━━━━━━━━━━━━━━━━━━━━━━\u001b[0m \u001b[32m2.0/2.0 MB\u001b[0m \u001b[31m61.0 MB/s\u001b[0m eta \u001b[36m0:00:00\u001b[0m\n",
            "\u001b[?25hRequirement already satisfied: cython in /usr/local/lib/python3.10/dist-packages (from scrublet) (3.0.10)\n",
            "Requirement already satisfied: scikit-image in /usr/local/lib/python3.10/dist-packages (from scrublet) (0.19.3)\n",
            "Collecting annoy (from scrublet)\n",
            "  Downloading annoy-1.17.3.tar.gz (647 kB)\n",
            "\u001b[2K     \u001b[90m━━━━━━━━━━━━━━━━━━━━━━━━━━━━━━━━━━━━━━━━\u001b[0m \u001b[32m647.5/647.5 kB\u001b[0m \u001b[31m49.7 MB/s\u001b[0m eta \u001b[36m0:00:00\u001b[0m\n",
            "\u001b[?25h  Preparing metadata (setup.py) ... \u001b[?25l\u001b[?25hdone\n",
            "Requirement already satisfied: array-api-compat!=1.5,>1.4 in /usr/local/lib/python3.10/dist-packages (from anndata>=0.8->scanpy[leiden]) (1.7.1)\n",
            "Requirement already satisfied: exceptiongroup in /usr/local/lib/python3.10/dist-packages (from anndata>=0.8->scanpy[leiden]) (1.2.1)\n",
            "Collecting texttable>=1.6.2 (from igraph>=0.10->scanpy[leiden])\n",
            "  Downloading texttable-1.7.0-py2.py3-none-any.whl (10 kB)\n",
            "Requirement already satisfied: contourpy>=1.0.1 in /usr/local/lib/python3.10/dist-packages (from matplotlib>=3.6->scanpy[leiden]) (1.2.1)\n",
            "Requirement already satisfied: cycler>=0.10 in /usr/local/lib/python3.10/dist-packages (from matplotlib>=3.6->scanpy[leiden]) (0.12.1)\n",
            "Requirement already satisfied: fonttools>=4.22.0 in /usr/local/lib/python3.10/dist-packages (from matplotlib>=3.6->scanpy[leiden]) (4.53.0)\n",
            "Requirement already satisfied: kiwisolver>=1.0.1 in /usr/local/lib/python3.10/dist-packages (from matplotlib>=3.6->scanpy[leiden]) (1.4.5)\n",
            "Requirement already satisfied: pillow>=6.2.0 in /usr/local/lib/python3.10/dist-packages (from matplotlib>=3.6->scanpy[leiden]) (9.4.0)\n",
            "Requirement already satisfied: pyparsing>=2.3.1 in /usr/local/lib/python3.10/dist-packages (from matplotlib>=3.6->scanpy[leiden]) (3.1.2)\n",
            "Requirement already satisfied: python-dateutil>=2.7 in /usr/local/lib/python3.10/dist-packages (from matplotlib>=3.6->scanpy[leiden]) (2.8.2)\n",
            "Requirement already satisfied: llvmlite<0.42,>=0.41.0dev0 in /usr/local/lib/python3.10/dist-packages (from numba>=0.56->scanpy[leiden]) (0.41.1)\n",
            "Requirement already satisfied: pytz>=2020.1 in /usr/local/lib/python3.10/dist-packages (from pandas>=1.5->scanpy[leiden]) (2023.4)\n",
            "Requirement already satisfied: tzdata>=2022.1 in /usr/local/lib/python3.10/dist-packages (from pandas>=1.5->scanpy[leiden]) (2024.1)\n",
            "Requirement already satisfied: threadpoolctl>=2.0.0 in /usr/local/lib/python3.10/dist-packages (from scikit-learn>=0.24->scanpy[leiden]) (3.5.0)\n",
            "Requirement already satisfied: six in /usr/local/lib/python3.10/dist-packages (from patsy->scanpy[leiden]) (1.16.0)\n",
            "Requirement already satisfied: imageio>=2.4.1 in /usr/local/lib/python3.10/dist-packages (from scikit-image->scrublet) (2.31.6)\n",
            "Requirement already satisfied: tifffile>=2019.7.26 in /usr/local/lib/python3.10/dist-packages (from scikit-image->scrublet) (2024.6.18)\n",
            "Requirement already satisfied: PyWavelets>=1.1.1 in /usr/local/lib/python3.10/dist-packages (from scikit-image->scrublet) (1.6.0)\n",
            "Requirement already satisfied: stdlib-list in /usr/local/lib/python3.10/dist-packages (from session-info->scanpy[leiden]) (0.10.0)\n",
            "Building wheels for collected packages: annoy\n",
            "  Building wheel for annoy (setup.py) ... \u001b[?25l\u001b[?25hdone\n",
            "  Created wheel for annoy: filename=annoy-1.17.3-cp310-cp310-linux_x86_64.whl size=552447 sha256=a59497181921544312c5e384f5f4e7a96b5d9aa1cb2782cbdc9b4fb97ce4655a\n",
            "  Stored in directory: /root/.cache/pip/wheels/64/8a/da/f714bcf46c5efdcfcac0559e63370c21abe961c48e3992465a\n",
            "Successfully built annoy\n",
            "Installing collected packages: texttable, annoy, igraph, leidenalg, scrublet\n",
            "Successfully installed annoy-1.17.3 igraph-0.11.5 leidenalg-0.10.2 scrublet-0.2.3 texttable-1.7.0\n",
            "Downloading...\n",
            "From: https://drive.google.com/uc?id=1Ctq4EmV2ps1dMiFcbqW467ywezRSGGN0&confirm=t\n",
            "To: /content/PBMC_10k.zip\n",
            "100% 345M/345M [00:04<00:00, 84.3MB/s]\n",
            "Archive:  PBMC_10k.zip\n",
            "  inflating: filtered_feature_bc_matrix.h5  \n",
            "  inflating: filtered_feature_bc_matrix.tar.gz  \n",
            "  inflating: metrics_summary.csv     \n",
            "  inflating: raw_feature_bc_matrix.h5  \n",
            "  inflating: raw_feature_bc_matrix.tar.gz  \n",
            "  inflating: web_summary.html        \n"
          ]
        }
      ],
      "source": [
        "!pip install scanpy[leiden] scrublet\n",
        "!gdown \"1Ctq4EmV2ps1dMiFcbqW467ywezRSGGN0&confirm=t\"\n",
        "!unzip PBMC_10k.zip"
      ]
    },
    {
      "cell_type": "markdown",
      "metadata": {
        "id": "l4reV5zB2tnL"
      },
      "source": [
        "## AnnData"
      ]
    },
    {
      "cell_type": "code",
      "execution_count": null,
      "metadata": {
        "id": "c4oQouqf2ui_"
      },
      "outputs": [],
      "source": [
        "import scanpy as sc\n",
        "import seaborn as sns\n",
        "import numpy as np\n",
        "\n",
        "# `verbosity = 3` means show every log message\n",
        "sc.settings.verbosity = 3"
      ]
    },
    {
      "cell_type": "code",
      "execution_count": null,
      "metadata": {
        "colab": {
          "base_uri": "https://localhost:8080/"
        },
        "id": "rkO0YkLSveOL",
        "outputId": "b1f643f9-5c7b-4b19-dcef-a81264ec9cd0"
      },
      "outputs": [
        {
          "name": "stdout",
          "output_type": "stream",
          "text": [
            "reading /content/filtered_feature_bc_matrix.h5\n",
            " (0:00:02)\n"
          ]
        },
        {
          "name": "stderr",
          "output_type": "stream",
          "text": [
            "/usr/local/lib/python3.10/dist-packages/anndata/_core/anndata.py:1820: UserWarning: Variable names are not unique. To make them unique, call `.var_names_make_unique`.\n",
            "  utils.warn_names_duplicates(\"var\")\n",
            "/usr/local/lib/python3.10/dist-packages/anndata/_core/anndata.py:1820: UserWarning: Variable names are not unique. To make them unique, call `.var_names_make_unique`.\n",
            "  utils.warn_names_duplicates(\"var\")\n"
          ]
        }
      ],
      "source": [
        "# Reading the dataset\n",
        "\n",
        "adata2 = sc.read_10x_h5(\"/content/filtered_feature_bc_matrix.h5\")"
      ]
    },
    {
      "cell_type": "code",
      "execution_count": null,
      "metadata": {
        "id": "dmeLv1wl3Obe"
      },
      "outputs": [],
      "source": [
        "# Make gene names unique\n",
        "\n",
        "adata2.var_names_make_unique()"
      ]
    },
    {
      "cell_type": "code",
      "execution_count": null,
      "metadata": {
        "colab": {
          "base_uri": "https://localhost:8080/"
        },
        "id": "lmj9GfXh2RpB",
        "outputId": "96740b33-baff-4ca6-ed1d-a5f75bc3be8f"
      },
      "outputs": [
        {
          "data": {
            "text/plain": [
              "<11996x36601 sparse matrix of type '<class 'numpy.float32'>'\n",
              "\twith 27164608 stored elements in Compressed Sparse Row format>"
            ]
          },
          "execution_count": 13,
          "metadata": {},
          "output_type": "execute_result"
        }
      ],
      "source": [
        "# Expression matrix\n",
        "\n",
        "adata2.X"
      ]
    },
    {
      "cell_type": "code",
      "execution_count": null,
      "metadata": {
        "colab": {
          "base_uri": "https://localhost:8080/"
        },
        "id": "jgVAH0RG2ZXT",
        "outputId": "7f18eda7-d803-41c2-9d21-2791f8f9f942"
      },
      "outputs": [
        {
          "data": {
            "text/plain": [
              "array([[0., 0., 0., ..., 0., 0., 0.],\n",
              "       [0., 0., 0., ..., 0., 0., 0.],\n",
              "       [0., 0., 0., ..., 0., 0., 0.],\n",
              "       ...,\n",
              "       [0., 0., 0., ..., 0., 0., 0.],\n",
              "       [0., 0., 0., ..., 0., 0., 0.],\n",
              "       [0., 0., 0., ..., 0., 0., 0.]], dtype=float32)"
            ]
          },
          "execution_count": 16,
          "metadata": {},
          "output_type": "execute_result"
        }
      ],
      "source": [
        "# Sparse to dense matrix transformation\n",
        "\n",
        "adata.X.A"
      ]
    },
    {
      "cell_type": "code",
      "execution_count": null,
      "metadata": {
        "colab": {
          "base_uri": "https://localhost:8080/"
        },
        "id": "YVxAMKeLLRia",
        "outputId": "e21f403d-4bfd-425f-e412-b936cd45f8ec"
      },
      "outputs": [
        {
          "data": {
            "text/plain": [
              "array([[0, 1],\n",
              "       [0, 0]])"
            ]
          },
          "execution_count": 7,
          "metadata": {},
          "output_type": "execute_result"
        }
      ],
      "source": [
        "# Dense to sparse matrix transformation\n",
        "\n",
        "from scipy.sparse import csr_matrix\n",
        "\n",
        "X = np.array([[0, 1], [0, 0]])\n",
        "X"
      ]
    },
    {
      "cell_type": "code",
      "execution_count": null,
      "metadata": {
        "colab": {
          "base_uri": "https://localhost:8080/"
        },
        "id": "mMsBgr5zLaJY",
        "outputId": "56af38f4-afb4-4009-c8de-a0f24e8fd9a8"
      },
      "outputs": [
        {
          "data": {
            "text/plain": [
              "<2x2 sparse matrix of type '<class 'numpy.int64'>'\n",
              "\twith 1 stored elements in Compressed Sparse Row format>"
            ]
          },
          "execution_count": 8,
          "metadata": {},
          "output_type": "execute_result"
        }
      ],
      "source": [
        "X_sparse = csr_matrix(X)\n",
        "X_sparse"
      ]
    },
    {
      "cell_type": "code",
      "execution_count": null,
      "metadata": {
        "colab": {
          "base_uri": "https://localhost:8080/"
        },
        "id": "m4cGk0VU2sB1",
        "outputId": "9a31f1c2-f37e-4775-b118-108a3198498d"
      },
      "outputs": [
        {
          "data": {
            "text/plain": [
              "array([[1, 2, 3],\n",
              "       [4, 5, 6],\n",
              "       [7, 8, 9]])"
            ]
          },
          "execution_count": 18,
          "metadata": {},
          "output_type": "execute_result"
        }
      ],
      "source": [
        "# How to create AnnData manually\n",
        "\n",
        "my_matrix = np.array([[1, 2, 3], [4, 5, 6], [7, 8, 9]])\n",
        "my_adata = sc.AnnData(X=my_matrix)\n",
        "\n",
        "my_adata.X"
      ]
    },
    {
      "cell_type": "code",
      "execution_count": null,
      "metadata": {
        "colab": {
          "base_uri": "https://localhost:8080/",
          "height": 406
        },
        "id": "E5JZg9zM2jh2",
        "outputId": "89168595-af68-4524-98bd-f1969355e4b4"
      },
      "outputs": [
        {
          "data": {
            "application/vnd.google.colaboratory.intrinsic+json": {
              "summary": "{\n  \"name\": \"adata\",\n  \"rows\": 11996,\n  \"fields\": []\n}",
              "type": "dataframe"
            },
            "text/html": [
              "\n",
              "  <div id=\"df-0efdfc81-b7e2-4f65-99f4-f0795c3168a7\" class=\"colab-df-container\">\n",
              "    <div>\n",
              "<style scoped>\n",
              "    .dataframe tbody tr th:only-of-type {\n",
              "        vertical-align: middle;\n",
              "    }\n",
              "\n",
              "    .dataframe tbody tr th {\n",
              "        vertical-align: top;\n",
              "    }\n",
              "\n",
              "    .dataframe thead th {\n",
              "        text-align: right;\n",
              "    }\n",
              "</style>\n",
              "<table border=\"1\" class=\"dataframe\">\n",
              "  <thead>\n",
              "    <tr style=\"text-align: right;\">\n",
              "      <th></th>\n",
              "    </tr>\n",
              "  </thead>\n",
              "  <tbody>\n",
              "    <tr>\n",
              "      <th>AAACCCAAGGCCCAAA-1</th>\n",
              "    </tr>\n",
              "    <tr>\n",
              "      <th>AAACCCAAGTAATACG-1</th>\n",
              "    </tr>\n",
              "    <tr>\n",
              "      <th>AAACCCAAGTCACACT-1</th>\n",
              "    </tr>\n",
              "    <tr>\n",
              "      <th>AAACCCACAAAGCGTG-1</th>\n",
              "    </tr>\n",
              "    <tr>\n",
              "      <th>AAACCCACAATCGAAA-1</th>\n",
              "    </tr>\n",
              "    <tr>\n",
              "      <th>...</th>\n",
              "    </tr>\n",
              "    <tr>\n",
              "      <th>TTTGTTGGTTGGATCT-1</th>\n",
              "    </tr>\n",
              "    <tr>\n",
              "      <th>TTTGTTGGTTTCTTAC-1</th>\n",
              "    </tr>\n",
              "    <tr>\n",
              "      <th>TTTGTTGTCCATTTCA-1</th>\n",
              "    </tr>\n",
              "    <tr>\n",
              "      <th>TTTGTTGTCTACACAG-1</th>\n",
              "    </tr>\n",
              "    <tr>\n",
              "      <th>TTTGTTGTCTCATTAC-1</th>\n",
              "    </tr>\n",
              "  </tbody>\n",
              "</table>\n",
              "<p>11996 rows × 0 columns</p>\n",
              "</div>\n",
              "    <div class=\"colab-df-buttons\">\n",
              "\n",
              "  <div class=\"colab-df-container\">\n",
              "    <button class=\"colab-df-convert\" onclick=\"convertToInteractive('df-0efdfc81-b7e2-4f65-99f4-f0795c3168a7')\"\n",
              "            title=\"Convert this dataframe to an interactive table.\"\n",
              "            style=\"display:none;\">\n",
              "\n",
              "  <svg xmlns=\"http://www.w3.org/2000/svg\" height=\"24px\" viewBox=\"0 -960 960 960\">\n",
              "    <path d=\"M120-120v-720h720v720H120Zm60-500h600v-160H180v160Zm220 220h160v-160H400v160Zm0 220h160v-160H400v160ZM180-400h160v-160H180v160Zm440 0h160v-160H620v160ZM180-180h160v-160H180v160Zm440 0h160v-160H620v160Z\"/>\n",
              "  </svg>\n",
              "    </button>\n",
              "\n",
              "  <style>\n",
              "    .colab-df-container {\n",
              "      display:flex;\n",
              "      gap: 12px;\n",
              "    }\n",
              "\n",
              "    .colab-df-convert {\n",
              "      background-color: #E8F0FE;\n",
              "      border: none;\n",
              "      border-radius: 50%;\n",
              "      cursor: pointer;\n",
              "      display: none;\n",
              "      fill: #1967D2;\n",
              "      height: 32px;\n",
              "      padding: 0 0 0 0;\n",
              "      width: 32px;\n",
              "    }\n",
              "\n",
              "    .colab-df-convert:hover {\n",
              "      background-color: #E2EBFA;\n",
              "      box-shadow: 0px 1px 2px rgba(60, 64, 67, 0.3), 0px 1px 3px 1px rgba(60, 64, 67, 0.15);\n",
              "      fill: #174EA6;\n",
              "    }\n",
              "\n",
              "    .colab-df-buttons div {\n",
              "      margin-bottom: 4px;\n",
              "    }\n",
              "\n",
              "    [theme=dark] .colab-df-convert {\n",
              "      background-color: #3B4455;\n",
              "      fill: #D2E3FC;\n",
              "    }\n",
              "\n",
              "    [theme=dark] .colab-df-convert:hover {\n",
              "      background-color: #434B5C;\n",
              "      box-shadow: 0px 1px 3px 1px rgba(0, 0, 0, 0.15);\n",
              "      filter: drop-shadow(0px 1px 2px rgba(0, 0, 0, 0.3));\n",
              "      fill: #FFFFFF;\n",
              "    }\n",
              "  </style>\n",
              "\n",
              "    <script>\n",
              "      const buttonEl =\n",
              "        document.querySelector('#df-0efdfc81-b7e2-4f65-99f4-f0795c3168a7 button.colab-df-convert');\n",
              "      buttonEl.style.display =\n",
              "        google.colab.kernel.accessAllowed ? 'block' : 'none';\n",
              "\n",
              "      async function convertToInteractive(key) {\n",
              "        const element = document.querySelector('#df-0efdfc81-b7e2-4f65-99f4-f0795c3168a7');\n",
              "        const dataTable =\n",
              "          await google.colab.kernel.invokeFunction('convertToInteractive',\n",
              "                                                    [key], {});\n",
              "        if (!dataTable) return;\n",
              "\n",
              "        const docLinkHtml = 'Like what you see? Visit the ' +\n",
              "          '<a target=\"_blank\" href=https://colab.research.google.com/notebooks/data_table.ipynb>data table notebook</a>'\n",
              "          + ' to learn more about interactive tables.';\n",
              "        element.innerHTML = '';\n",
              "        dataTable['output_type'] = 'display_data';\n",
              "        await google.colab.output.renderOutput(dataTable, element);\n",
              "        const docLink = document.createElement('div');\n",
              "        docLink.innerHTML = docLinkHtml;\n",
              "        element.appendChild(docLink);\n",
              "      }\n",
              "    </script>\n",
              "  </div>\n",
              "\n",
              "\n",
              "<div id=\"df-18cabcfe-658c-4755-ba78-25d5d7639c74\">\n",
              "  <button class=\"colab-df-quickchart\" onclick=\"quickchart('df-18cabcfe-658c-4755-ba78-25d5d7639c74')\"\n",
              "            title=\"Suggest charts\"\n",
              "            style=\"display:none;\">\n",
              "\n",
              "<svg xmlns=\"http://www.w3.org/2000/svg\" height=\"24px\"viewBox=\"0 0 24 24\"\n",
              "     width=\"24px\">\n",
              "    <g>\n",
              "        <path d=\"M19 3H5c-1.1 0-2 .9-2 2v14c0 1.1.9 2 2 2h14c1.1 0 2-.9 2-2V5c0-1.1-.9-2-2-2zM9 17H7v-7h2v7zm4 0h-2V7h2v10zm4 0h-2v-4h2v4z\"/>\n",
              "    </g>\n",
              "</svg>\n",
              "  </button>\n",
              "\n",
              "<style>\n",
              "  .colab-df-quickchart {\n",
              "      --bg-color: #E8F0FE;\n",
              "      --fill-color: #1967D2;\n",
              "      --hover-bg-color: #E2EBFA;\n",
              "      --hover-fill-color: #174EA6;\n",
              "      --disabled-fill-color: #AAA;\n",
              "      --disabled-bg-color: #DDD;\n",
              "  }\n",
              "\n",
              "  [theme=dark] .colab-df-quickchart {\n",
              "      --bg-color: #3B4455;\n",
              "      --fill-color: #D2E3FC;\n",
              "      --hover-bg-color: #434B5C;\n",
              "      --hover-fill-color: #FFFFFF;\n",
              "      --disabled-bg-color: #3B4455;\n",
              "      --disabled-fill-color: #666;\n",
              "  }\n",
              "\n",
              "  .colab-df-quickchart {\n",
              "    background-color: var(--bg-color);\n",
              "    border: none;\n",
              "    border-radius: 50%;\n",
              "    cursor: pointer;\n",
              "    display: none;\n",
              "    fill: var(--fill-color);\n",
              "    height: 32px;\n",
              "    padding: 0;\n",
              "    width: 32px;\n",
              "  }\n",
              "\n",
              "  .colab-df-quickchart:hover {\n",
              "    background-color: var(--hover-bg-color);\n",
              "    box-shadow: 0 1px 2px rgba(60, 64, 67, 0.3), 0 1px 3px 1px rgba(60, 64, 67, 0.15);\n",
              "    fill: var(--button-hover-fill-color);\n",
              "  }\n",
              "\n",
              "  .colab-df-quickchart-complete:disabled,\n",
              "  .colab-df-quickchart-complete:disabled:hover {\n",
              "    background-color: var(--disabled-bg-color);\n",
              "    fill: var(--disabled-fill-color);\n",
              "    box-shadow: none;\n",
              "  }\n",
              "\n",
              "  .colab-df-spinner {\n",
              "    border: 2px solid var(--fill-color);\n",
              "    border-color: transparent;\n",
              "    border-bottom-color: var(--fill-color);\n",
              "    animation:\n",
              "      spin 1s steps(1) infinite;\n",
              "  }\n",
              "\n",
              "  @keyframes spin {\n",
              "    0% {\n",
              "      border-color: transparent;\n",
              "      border-bottom-color: var(--fill-color);\n",
              "      border-left-color: var(--fill-color);\n",
              "    }\n",
              "    20% {\n",
              "      border-color: transparent;\n",
              "      border-left-color: var(--fill-color);\n",
              "      border-top-color: var(--fill-color);\n",
              "    }\n",
              "    30% {\n",
              "      border-color: transparent;\n",
              "      border-left-color: var(--fill-color);\n",
              "      border-top-color: var(--fill-color);\n",
              "      border-right-color: var(--fill-color);\n",
              "    }\n",
              "    40% {\n",
              "      border-color: transparent;\n",
              "      border-right-color: var(--fill-color);\n",
              "      border-top-color: var(--fill-color);\n",
              "    }\n",
              "    60% {\n",
              "      border-color: transparent;\n",
              "      border-right-color: var(--fill-color);\n",
              "    }\n",
              "    80% {\n",
              "      border-color: transparent;\n",
              "      border-right-color: var(--fill-color);\n",
              "      border-bottom-color: var(--fill-color);\n",
              "    }\n",
              "    90% {\n",
              "      border-color: transparent;\n",
              "      border-bottom-color: var(--fill-color);\n",
              "    }\n",
              "  }\n",
              "</style>\n",
              "\n",
              "  <script>\n",
              "    async function quickchart(key) {\n",
              "      const quickchartButtonEl =\n",
              "        document.querySelector('#' + key + ' button');\n",
              "      quickchartButtonEl.disabled = true;  // To prevent multiple clicks.\n",
              "      quickchartButtonEl.classList.add('colab-df-spinner');\n",
              "      try {\n",
              "        const charts = await google.colab.kernel.invokeFunction(\n",
              "            'suggestCharts', [key], {});\n",
              "      } catch (error) {\n",
              "        console.error('Error during call to suggestCharts:', error);\n",
              "      }\n",
              "      quickchartButtonEl.classList.remove('colab-df-spinner');\n",
              "      quickchartButtonEl.classList.add('colab-df-quickchart-complete');\n",
              "    }\n",
              "    (() => {\n",
              "      let quickchartButtonEl =\n",
              "        document.querySelector('#df-18cabcfe-658c-4755-ba78-25d5d7639c74 button');\n",
              "      quickchartButtonEl.style.display =\n",
              "        google.colab.kernel.accessAllowed ? 'block' : 'none';\n",
              "    })();\n",
              "  </script>\n",
              "</div>\n",
              "\n",
              "    </div>\n",
              "  </div>\n"
            ],
            "text/plain": [
              "Empty DataFrame\n",
              "Columns: []\n",
              "Index: [AAACCCAAGGCCCAAA-1, AAACCCAAGTAATACG-1, AAACCCAAGTCACACT-1, AAACCCACAAAGCGTG-1, AAACCCACAATCGAAA-1, AAACCCACAGATCACT-1, AAACCCACATTGACCA-1, AAACCCAGTGAGCCAA-1, AAACCCAGTGATAGAT-1, AAACCCAGTGCCTGAC-1, AAACCCAGTGGTCTTA-1, AAACCCATCAGCCTCT-1, AAACGAAAGATGAATC-1, AAACGAACAGAATTCC-1, AAACGAACAGGATGAC-1, AAACGAAGTTACGCCG-1, AAACGAATCAACGAGG-1, AAACGAATCCGATAGT-1, AAACGAATCTCGACCT-1, AAACGCTAGCCTGACC-1, AAACGCTAGGACAAGA-1, AAACGCTAGGCCTTGC-1, AAACGCTCATACATCG-1, AAACGCTCATACGCAT-1, AAACGCTCATGAATCC-1, AAACGCTCATTCTGTT-1, AAACGCTGTCCATCTC-1, AAACGCTGTGAGCGAT-1, AAACGCTTCGACCACG-1, AAAGAACAGCATAGGC-1, AAAGAACAGCCTGAAG-1, AAAGAACAGGCCCGTT-1, AAAGAACCAAAGGGTC-1, AAAGAACCAGATCCTA-1, AAAGAACCAGGTTCGC-1, AAAGAACCATGGAGAC-1, AAAGAACGTCAAAGAT-1, AAAGAACTCGTGTCAA-1, AAAGGATAGAACAGGA-1, AAAGGATAGTGAGGCT-1, AAAGGATCAATGACCT-1, AAAGGATCACTACCGG-1, AAAGGATCACTAGTAC-1, AAAGGATGTCCTGGGT-1, AAAGGATGTGAGTAAT-1, AAAGGATGTGGGCTCT-1, AAAGGATGTTCCATTT-1, AAAGGATTCACGATCA-1, AAAGGATTCATTCATC-1, AAAGGATTCGGCGATC-1, AAAGGGCAGGCGACAT-1, AAAGGGCAGGGTAGCT-1, AAAGGGCCAGTAACGG-1, AAAGGGCGTACGAGTG-1, AAAGGGCGTCGAATGG-1, AAAGGGCTCACCCTCA-1, AAAGGGCTCACTGTTT-1, AAAGGGCTCCCGGTAG-1, AAAGGGCTCGCCAATA-1, AAAGGGCTCTTTGCTA-1, AAAGGTAAGCAAGTCG-1, AAAGGTAAGGGATGTC-1, AAAGGTAAGTAAACAC-1, AAAGGTAAGTTGCCCG-1, AAAGGTACAATACAGA-1, AAAGGTACACGCGTCA-1, AAAGGTACACTTACAG-1, AAAGGTACAGGAACCA-1, AAAGGTACATGGACAG-1, AAAGGTAGTCGCATGC-1, AAAGGTATCCGTGTCT-1, AAAGGTATCTCGTCAC-1, AAAGTCCAGCCATGCC-1, AAAGTCCAGCTACAAA-1, AAAGTCCCACCCATAA-1, AAAGTCCCACTACCCT-1, AAAGTCCCAGAGGCTA-1, AAAGTCCGTACGACAG-1, AAAGTCCTCGGATTAC-1, AAAGTGAAGACAGTCG-1, AAAGTGAAGAGCTGCA-1, AAAGTGAAGAGTGTGC-1, AAAGTGAAGATACGAT-1, AAAGTGAAGCCTCTTC-1, AAAGTGAAGCTTAGTC-1, AAAGTGAAGGTGCTTT-1, AAAGTGACAACGTATC-1, AAAGTGACAATAGGAT-1, AAAGTGACAATCGCAT-1, AAAGTGACATCGTGCG-1, AAAGTGACATTGCTTT-1, AAAGTGAGTTACCCTC-1, AAAGTGATCCAAGGGA-1, AAATGGAAGATCCGAG-1, AAATGGAAGATGAAGG-1, AAATGGACAACAAAGT-1, AAATGGACAATGTCTG-1, AAATGGACACGACCTG-1, AAATGGACAGATTTCG-1, AAATGGAGTACTGCGC-1, ...]\n",
              "\n",
              "[11996 rows x 0 columns]"
            ]
          },
          "execution_count": 10,
          "metadata": {},
          "output_type": "execute_result"
        }
      ],
      "source": [
        "# DataFrame with cells' annotation\n",
        "adata.obs"
      ]
    },
    {
      "cell_type": "code",
      "execution_count": null,
      "metadata": {
        "colab": {
          "base_uri": "https://localhost:8080/",
          "height": 423
        },
        "id": "KGuIIkfVp8qM",
        "outputId": "da62edf4-ee4e-408a-ca9d-2b7dda827e2a"
      },
      "outputs": [
        {
          "data": {
            "application/vnd.google.colaboratory.intrinsic+json": {
              "summary": "{\n  \"name\": \"adata\",\n  \"rows\": 11996,\n  \"fields\": [\n    {\n      \"column\": \"tissue\",\n      \"properties\": {\n        \"dtype\": \"category\",\n        \"num_unique_values\": 1,\n        \"samples\": [\n          \"PBMC\"\n        ],\n        \"semantic_type\": \"\",\n        \"description\": \"\"\n      }\n    }\n  ]\n}",
              "type": "dataframe"
            },
            "text/html": [
              "\n",
              "  <div id=\"df-5bc03863-40f2-43c8-a37b-46ec7b549190\" class=\"colab-df-container\">\n",
              "    <div>\n",
              "<style scoped>\n",
              "    .dataframe tbody tr th:only-of-type {\n",
              "        vertical-align: middle;\n",
              "    }\n",
              "\n",
              "    .dataframe tbody tr th {\n",
              "        vertical-align: top;\n",
              "    }\n",
              "\n",
              "    .dataframe thead th {\n",
              "        text-align: right;\n",
              "    }\n",
              "</style>\n",
              "<table border=\"1\" class=\"dataframe\">\n",
              "  <thead>\n",
              "    <tr style=\"text-align: right;\">\n",
              "      <th></th>\n",
              "      <th>tissue</th>\n",
              "    </tr>\n",
              "  </thead>\n",
              "  <tbody>\n",
              "    <tr>\n",
              "      <th>AAACCCAAGGCCCAAA-1</th>\n",
              "      <td>PBMC</td>\n",
              "    </tr>\n",
              "    <tr>\n",
              "      <th>AAACCCAAGTAATACG-1</th>\n",
              "      <td>PBMC</td>\n",
              "    </tr>\n",
              "    <tr>\n",
              "      <th>AAACCCAAGTCACACT-1</th>\n",
              "      <td>PBMC</td>\n",
              "    </tr>\n",
              "    <tr>\n",
              "      <th>AAACCCACAAAGCGTG-1</th>\n",
              "      <td>PBMC</td>\n",
              "    </tr>\n",
              "    <tr>\n",
              "      <th>AAACCCACAATCGAAA-1</th>\n",
              "      <td>PBMC</td>\n",
              "    </tr>\n",
              "    <tr>\n",
              "      <th>...</th>\n",
              "      <td>...</td>\n",
              "    </tr>\n",
              "    <tr>\n",
              "      <th>TTTGTTGGTTGGATCT-1</th>\n",
              "      <td>PBMC</td>\n",
              "    </tr>\n",
              "    <tr>\n",
              "      <th>TTTGTTGGTTTCTTAC-1</th>\n",
              "      <td>PBMC</td>\n",
              "    </tr>\n",
              "    <tr>\n",
              "      <th>TTTGTTGTCCATTTCA-1</th>\n",
              "      <td>PBMC</td>\n",
              "    </tr>\n",
              "    <tr>\n",
              "      <th>TTTGTTGTCTACACAG-1</th>\n",
              "      <td>PBMC</td>\n",
              "    </tr>\n",
              "    <tr>\n",
              "      <th>TTTGTTGTCTCATTAC-1</th>\n",
              "      <td>PBMC</td>\n",
              "    </tr>\n",
              "  </tbody>\n",
              "</table>\n",
              "<p>11996 rows × 1 columns</p>\n",
              "</div>\n",
              "    <div class=\"colab-df-buttons\">\n",
              "\n",
              "  <div class=\"colab-df-container\">\n",
              "    <button class=\"colab-df-convert\" onclick=\"convertToInteractive('df-5bc03863-40f2-43c8-a37b-46ec7b549190')\"\n",
              "            title=\"Convert this dataframe to an interactive table.\"\n",
              "            style=\"display:none;\">\n",
              "\n",
              "  <svg xmlns=\"http://www.w3.org/2000/svg\" height=\"24px\" viewBox=\"0 -960 960 960\">\n",
              "    <path d=\"M120-120v-720h720v720H120Zm60-500h600v-160H180v160Zm220 220h160v-160H400v160Zm0 220h160v-160H400v160ZM180-400h160v-160H180v160Zm440 0h160v-160H620v160ZM180-180h160v-160H180v160Zm440 0h160v-160H620v160Z\"/>\n",
              "  </svg>\n",
              "    </button>\n",
              "\n",
              "  <style>\n",
              "    .colab-df-container {\n",
              "      display:flex;\n",
              "      gap: 12px;\n",
              "    }\n",
              "\n",
              "    .colab-df-convert {\n",
              "      background-color: #E8F0FE;\n",
              "      border: none;\n",
              "      border-radius: 50%;\n",
              "      cursor: pointer;\n",
              "      display: none;\n",
              "      fill: #1967D2;\n",
              "      height: 32px;\n",
              "      padding: 0 0 0 0;\n",
              "      width: 32px;\n",
              "    }\n",
              "\n",
              "    .colab-df-convert:hover {\n",
              "      background-color: #E2EBFA;\n",
              "      box-shadow: 0px 1px 2px rgba(60, 64, 67, 0.3), 0px 1px 3px 1px rgba(60, 64, 67, 0.15);\n",
              "      fill: #174EA6;\n",
              "    }\n",
              "\n",
              "    .colab-df-buttons div {\n",
              "      margin-bottom: 4px;\n",
              "    }\n",
              "\n",
              "    [theme=dark] .colab-df-convert {\n",
              "      background-color: #3B4455;\n",
              "      fill: #D2E3FC;\n",
              "    }\n",
              "\n",
              "    [theme=dark] .colab-df-convert:hover {\n",
              "      background-color: #434B5C;\n",
              "      box-shadow: 0px 1px 3px 1px rgba(0, 0, 0, 0.15);\n",
              "      filter: drop-shadow(0px 1px 2px rgba(0, 0, 0, 0.3));\n",
              "      fill: #FFFFFF;\n",
              "    }\n",
              "  </style>\n",
              "\n",
              "    <script>\n",
              "      const buttonEl =\n",
              "        document.querySelector('#df-5bc03863-40f2-43c8-a37b-46ec7b549190 button.colab-df-convert');\n",
              "      buttonEl.style.display =\n",
              "        google.colab.kernel.accessAllowed ? 'block' : 'none';\n",
              "\n",
              "      async function convertToInteractive(key) {\n",
              "        const element = document.querySelector('#df-5bc03863-40f2-43c8-a37b-46ec7b549190');\n",
              "        const dataTable =\n",
              "          await google.colab.kernel.invokeFunction('convertToInteractive',\n",
              "                                                    [key], {});\n",
              "        if (!dataTable) return;\n",
              "\n",
              "        const docLinkHtml = 'Like what you see? Visit the ' +\n",
              "          '<a target=\"_blank\" href=https://colab.research.google.com/notebooks/data_table.ipynb>data table notebook</a>'\n",
              "          + ' to learn more about interactive tables.';\n",
              "        element.innerHTML = '';\n",
              "        dataTable['output_type'] = 'display_data';\n",
              "        await google.colab.output.renderOutput(dataTable, element);\n",
              "        const docLink = document.createElement('div');\n",
              "        docLink.innerHTML = docLinkHtml;\n",
              "        element.appendChild(docLink);\n",
              "      }\n",
              "    </script>\n",
              "  </div>\n",
              "\n",
              "\n",
              "<div id=\"df-f395d95c-7eda-417c-80b8-77d408fc91fd\">\n",
              "  <button class=\"colab-df-quickchart\" onclick=\"quickchart('df-f395d95c-7eda-417c-80b8-77d408fc91fd')\"\n",
              "            title=\"Suggest charts\"\n",
              "            style=\"display:none;\">\n",
              "\n",
              "<svg xmlns=\"http://www.w3.org/2000/svg\" height=\"24px\"viewBox=\"0 0 24 24\"\n",
              "     width=\"24px\">\n",
              "    <g>\n",
              "        <path d=\"M19 3H5c-1.1 0-2 .9-2 2v14c0 1.1.9 2 2 2h14c1.1 0 2-.9 2-2V5c0-1.1-.9-2-2-2zM9 17H7v-7h2v7zm4 0h-2V7h2v10zm4 0h-2v-4h2v4z\"/>\n",
              "    </g>\n",
              "</svg>\n",
              "  </button>\n",
              "\n",
              "<style>\n",
              "  .colab-df-quickchart {\n",
              "      --bg-color: #E8F0FE;\n",
              "      --fill-color: #1967D2;\n",
              "      --hover-bg-color: #E2EBFA;\n",
              "      --hover-fill-color: #174EA6;\n",
              "      --disabled-fill-color: #AAA;\n",
              "      --disabled-bg-color: #DDD;\n",
              "  }\n",
              "\n",
              "  [theme=dark] .colab-df-quickchart {\n",
              "      --bg-color: #3B4455;\n",
              "      --fill-color: #D2E3FC;\n",
              "      --hover-bg-color: #434B5C;\n",
              "      --hover-fill-color: #FFFFFF;\n",
              "      --disabled-bg-color: #3B4455;\n",
              "      --disabled-fill-color: #666;\n",
              "  }\n",
              "\n",
              "  .colab-df-quickchart {\n",
              "    background-color: var(--bg-color);\n",
              "    border: none;\n",
              "    border-radius: 50%;\n",
              "    cursor: pointer;\n",
              "    display: none;\n",
              "    fill: var(--fill-color);\n",
              "    height: 32px;\n",
              "    padding: 0;\n",
              "    width: 32px;\n",
              "  }\n",
              "\n",
              "  .colab-df-quickchart:hover {\n",
              "    background-color: var(--hover-bg-color);\n",
              "    box-shadow: 0 1px 2px rgba(60, 64, 67, 0.3), 0 1px 3px 1px rgba(60, 64, 67, 0.15);\n",
              "    fill: var(--button-hover-fill-color);\n",
              "  }\n",
              "\n",
              "  .colab-df-quickchart-complete:disabled,\n",
              "  .colab-df-quickchart-complete:disabled:hover {\n",
              "    background-color: var(--disabled-bg-color);\n",
              "    fill: var(--disabled-fill-color);\n",
              "    box-shadow: none;\n",
              "  }\n",
              "\n",
              "  .colab-df-spinner {\n",
              "    border: 2px solid var(--fill-color);\n",
              "    border-color: transparent;\n",
              "    border-bottom-color: var(--fill-color);\n",
              "    animation:\n",
              "      spin 1s steps(1) infinite;\n",
              "  }\n",
              "\n",
              "  @keyframes spin {\n",
              "    0% {\n",
              "      border-color: transparent;\n",
              "      border-bottom-color: var(--fill-color);\n",
              "      border-left-color: var(--fill-color);\n",
              "    }\n",
              "    20% {\n",
              "      border-color: transparent;\n",
              "      border-left-color: var(--fill-color);\n",
              "      border-top-color: var(--fill-color);\n",
              "    }\n",
              "    30% {\n",
              "      border-color: transparent;\n",
              "      border-left-color: var(--fill-color);\n",
              "      border-top-color: var(--fill-color);\n",
              "      border-right-color: var(--fill-color);\n",
              "    }\n",
              "    40% {\n",
              "      border-color: transparent;\n",
              "      border-right-color: var(--fill-color);\n",
              "      border-top-color: var(--fill-color);\n",
              "    }\n",
              "    60% {\n",
              "      border-color: transparent;\n",
              "      border-right-color: var(--fill-color);\n",
              "    }\n",
              "    80% {\n",
              "      border-color: transparent;\n",
              "      border-right-color: var(--fill-color);\n",
              "      border-bottom-color: var(--fill-color);\n",
              "    }\n",
              "    90% {\n",
              "      border-color: transparent;\n",
              "      border-bottom-color: var(--fill-color);\n",
              "    }\n",
              "  }\n",
              "</style>\n",
              "\n",
              "  <script>\n",
              "    async function quickchart(key) {\n",
              "      const quickchartButtonEl =\n",
              "        document.querySelector('#' + key + ' button');\n",
              "      quickchartButtonEl.disabled = true;  // To prevent multiple clicks.\n",
              "      quickchartButtonEl.classList.add('colab-df-spinner');\n",
              "      try {\n",
              "        const charts = await google.colab.kernel.invokeFunction(\n",
              "            'suggestCharts', [key], {});\n",
              "      } catch (error) {\n",
              "        console.error('Error during call to suggestCharts:', error);\n",
              "      }\n",
              "      quickchartButtonEl.classList.remove('colab-df-spinner');\n",
              "      quickchartButtonEl.classList.add('colab-df-quickchart-complete');\n",
              "    }\n",
              "    (() => {\n",
              "      let quickchartButtonEl =\n",
              "        document.querySelector('#df-f395d95c-7eda-417c-80b8-77d408fc91fd button');\n",
              "      quickchartButtonEl.style.display =\n",
              "        google.colab.kernel.accessAllowed ? 'block' : 'none';\n",
              "    })();\n",
              "  </script>\n",
              "</div>\n",
              "\n",
              "    </div>\n",
              "  </div>\n"
            ],
            "text/plain": [
              "                   tissue\n",
              "AAACCCAAGGCCCAAA-1   PBMC\n",
              "AAACCCAAGTAATACG-1   PBMC\n",
              "AAACCCAAGTCACACT-1   PBMC\n",
              "AAACCCACAAAGCGTG-1   PBMC\n",
              "AAACCCACAATCGAAA-1   PBMC\n",
              "...                   ...\n",
              "TTTGTTGGTTGGATCT-1   PBMC\n",
              "TTTGTTGGTTTCTTAC-1   PBMC\n",
              "TTTGTTGTCCATTTCA-1   PBMC\n",
              "TTTGTTGTCTACACAG-1   PBMC\n",
              "TTTGTTGTCTCATTAC-1   PBMC\n",
              "\n",
              "[11996 rows x 1 columns]"
            ]
          },
          "execution_count": 11,
          "metadata": {},
          "output_type": "execute_result"
        }
      ],
      "source": [
        "adata.obs[\"tissue\"] = \"PBMC\"\n",
        "adata.obs"
      ]
    },
    {
      "cell_type": "code",
      "execution_count": null,
      "metadata": {
        "colab": {
          "base_uri": "https://localhost:8080/"
        },
        "id": "eM32jA582ptr",
        "outputId": "79c7efe3-d5d6-4b6a-860d-752910b2670d"
      },
      "outputs": [
        {
          "data": {
            "text/plain": [
              "AAACCCAAGGCCCAAA-1    PBMC\n",
              "AAACCCAAGTAATACG-1    PBMC\n",
              "AAACCCAAGTCACACT-1    PBMC\n",
              "AAACCCACAAAGCGTG-1    PBMC\n",
              "AAACCCACAATCGAAA-1    PBMC\n",
              "                      ... \n",
              "TTTGTTGGTTGGATCT-1    PBMC\n",
              "TTTGTTGGTTTCTTAC-1    PBMC\n",
              "TTTGTTGTCCATTTCA-1    PBMC\n",
              "TTTGTTGTCTACACAG-1    PBMC\n",
              "TTTGTTGTCTCATTAC-1    PBMC\n",
              "Name: tissue, Length: 11996, dtype: category\n",
              "Categories (1, object): ['PBMC']"
            ]
          },
          "execution_count": 12,
          "metadata": {},
          "output_type": "execute_result"
        }
      ],
      "source": [
        "# Categorical Series\n",
        "\n",
        "adata.obs[\"tissue\"] = adata.obs.tissue.astype(\"category\")\n",
        "adata.obs.tissue"
      ]
    },
    {
      "cell_type": "code",
      "execution_count": null,
      "metadata": {
        "colab": {
          "base_uri": "https://localhost:8080/",
          "height": 423
        },
        "id": "mObq5NwisQnk",
        "outputId": "4879265c-c903-40ed-8817-241bf4dcd627"
      },
      "outputs": [
        {
          "data": {
            "application/vnd.google.colaboratory.intrinsic+json": {
              "summary": "{\n  \"name\": \"adata\",\n  \"rows\": 36601,\n  \"fields\": [\n    {\n      \"column\": \"gene_ids\",\n      \"properties\": {\n        \"dtype\": \"string\",\n        \"num_unique_values\": 36601,\n        \"samples\": [\n          \"ENSG00000232112\",\n          \"ENSG00000228474\",\n          \"ENSG00000277448\"\n        ],\n        \"semantic_type\": \"\",\n        \"description\": \"\"\n      }\n    },\n    {\n      \"column\": \"mt\",\n      \"properties\": {\n        \"dtype\": \"boolean\",\n        \"num_unique_values\": 2,\n        \"samples\": [\n          true,\n          false\n        ],\n        \"semantic_type\": \"\",\n        \"description\": \"\"\n      }\n    }\n  ]\n}",
              "type": "dataframe"
            },
            "text/html": [
              "\n",
              "  <div id=\"df-f739125f-837c-40f3-9d0d-6f75cbf2d29a\" class=\"colab-df-container\">\n",
              "    <div>\n",
              "<style scoped>\n",
              "    .dataframe tbody tr th:only-of-type {\n",
              "        vertical-align: middle;\n",
              "    }\n",
              "\n",
              "    .dataframe tbody tr th {\n",
              "        vertical-align: top;\n",
              "    }\n",
              "\n",
              "    .dataframe thead th {\n",
              "        text-align: right;\n",
              "    }\n",
              "</style>\n",
              "<table border=\"1\" class=\"dataframe\">\n",
              "  <thead>\n",
              "    <tr style=\"text-align: right;\">\n",
              "      <th></th>\n",
              "      <th>gene_ids</th>\n",
              "      <th>mt</th>\n",
              "    </tr>\n",
              "  </thead>\n",
              "  <tbody>\n",
              "    <tr>\n",
              "      <th>MIR1302-2HG</th>\n",
              "      <td>ENSG00000243485</td>\n",
              "      <td>False</td>\n",
              "    </tr>\n",
              "    <tr>\n",
              "      <th>FAM138A</th>\n",
              "      <td>ENSG00000237613</td>\n",
              "      <td>False</td>\n",
              "    </tr>\n",
              "    <tr>\n",
              "      <th>OR4F5</th>\n",
              "      <td>ENSG00000186092</td>\n",
              "      <td>False</td>\n",
              "    </tr>\n",
              "    <tr>\n",
              "      <th>AL627309.1</th>\n",
              "      <td>ENSG00000238009</td>\n",
              "      <td>False</td>\n",
              "    </tr>\n",
              "    <tr>\n",
              "      <th>AL627309.3</th>\n",
              "      <td>ENSG00000239945</td>\n",
              "      <td>False</td>\n",
              "    </tr>\n",
              "    <tr>\n",
              "      <th>...</th>\n",
              "      <td>...</td>\n",
              "      <td>...</td>\n",
              "    </tr>\n",
              "    <tr>\n",
              "      <th>AC141272.1</th>\n",
              "      <td>ENSG00000277836</td>\n",
              "      <td>False</td>\n",
              "    </tr>\n",
              "    <tr>\n",
              "      <th>AC023491.2</th>\n",
              "      <td>ENSG00000278633</td>\n",
              "      <td>False</td>\n",
              "    </tr>\n",
              "    <tr>\n",
              "      <th>AC007325.1</th>\n",
              "      <td>ENSG00000276017</td>\n",
              "      <td>False</td>\n",
              "    </tr>\n",
              "    <tr>\n",
              "      <th>AC007325.4</th>\n",
              "      <td>ENSG00000278817</td>\n",
              "      <td>False</td>\n",
              "    </tr>\n",
              "    <tr>\n",
              "      <th>AC007325.2</th>\n",
              "      <td>ENSG00000277196</td>\n",
              "      <td>False</td>\n",
              "    </tr>\n",
              "  </tbody>\n",
              "</table>\n",
              "<p>36601 rows × 2 columns</p>\n",
              "</div>\n",
              "    <div class=\"colab-df-buttons\">\n",
              "\n",
              "  <div class=\"colab-df-container\">\n",
              "    <button class=\"colab-df-convert\" onclick=\"convertToInteractive('df-f739125f-837c-40f3-9d0d-6f75cbf2d29a')\"\n",
              "            title=\"Convert this dataframe to an interactive table.\"\n",
              "            style=\"display:none;\">\n",
              "\n",
              "  <svg xmlns=\"http://www.w3.org/2000/svg\" height=\"24px\" viewBox=\"0 -960 960 960\">\n",
              "    <path d=\"M120-120v-720h720v720H120Zm60-500h600v-160H180v160Zm220 220h160v-160H400v160Zm0 220h160v-160H400v160ZM180-400h160v-160H180v160Zm440 0h160v-160H620v160ZM180-180h160v-160H180v160Zm440 0h160v-160H620v160Z\"/>\n",
              "  </svg>\n",
              "    </button>\n",
              "\n",
              "  <style>\n",
              "    .colab-df-container {\n",
              "      display:flex;\n",
              "      gap: 12px;\n",
              "    }\n",
              "\n",
              "    .colab-df-convert {\n",
              "      background-color: #E8F0FE;\n",
              "      border: none;\n",
              "      border-radius: 50%;\n",
              "      cursor: pointer;\n",
              "      display: none;\n",
              "      fill: #1967D2;\n",
              "      height: 32px;\n",
              "      padding: 0 0 0 0;\n",
              "      width: 32px;\n",
              "    }\n",
              "\n",
              "    .colab-df-convert:hover {\n",
              "      background-color: #E2EBFA;\n",
              "      box-shadow: 0px 1px 2px rgba(60, 64, 67, 0.3), 0px 1px 3px 1px rgba(60, 64, 67, 0.15);\n",
              "      fill: #174EA6;\n",
              "    }\n",
              "\n",
              "    .colab-df-buttons div {\n",
              "      margin-bottom: 4px;\n",
              "    }\n",
              "\n",
              "    [theme=dark] .colab-df-convert {\n",
              "      background-color: #3B4455;\n",
              "      fill: #D2E3FC;\n",
              "    }\n",
              "\n",
              "    [theme=dark] .colab-df-convert:hover {\n",
              "      background-color: #434B5C;\n",
              "      box-shadow: 0px 1px 3px 1px rgba(0, 0, 0, 0.15);\n",
              "      filter: drop-shadow(0px 1px 2px rgba(0, 0, 0, 0.3));\n",
              "      fill: #FFFFFF;\n",
              "    }\n",
              "  </style>\n",
              "\n",
              "    <script>\n",
              "      const buttonEl =\n",
              "        document.querySelector('#df-f739125f-837c-40f3-9d0d-6f75cbf2d29a button.colab-df-convert');\n",
              "      buttonEl.style.display =\n",
              "        google.colab.kernel.accessAllowed ? 'block' : 'none';\n",
              "\n",
              "      async function convertToInteractive(key) {\n",
              "        const element = document.querySelector('#df-f739125f-837c-40f3-9d0d-6f75cbf2d29a');\n",
              "        const dataTable =\n",
              "          await google.colab.kernel.invokeFunction('convertToInteractive',\n",
              "                                                    [key], {});\n",
              "        if (!dataTable) return;\n",
              "\n",
              "        const docLinkHtml = 'Like what you see? Visit the ' +\n",
              "          '<a target=\"_blank\" href=https://colab.research.google.com/notebooks/data_table.ipynb>data table notebook</a>'\n",
              "          + ' to learn more about interactive tables.';\n",
              "        element.innerHTML = '';\n",
              "        dataTable['output_type'] = 'display_data';\n",
              "        await google.colab.output.renderOutput(dataTable, element);\n",
              "        const docLink = document.createElement('div');\n",
              "        docLink.innerHTML = docLinkHtml;\n",
              "        element.appendChild(docLink);\n",
              "      }\n",
              "    </script>\n",
              "  </div>\n",
              "\n",
              "\n",
              "<div id=\"df-7252cb4c-b937-4fb9-a309-9bce6e26422a\">\n",
              "  <button class=\"colab-df-quickchart\" onclick=\"quickchart('df-7252cb4c-b937-4fb9-a309-9bce6e26422a')\"\n",
              "            title=\"Suggest charts\"\n",
              "            style=\"display:none;\">\n",
              "\n",
              "<svg xmlns=\"http://www.w3.org/2000/svg\" height=\"24px\"viewBox=\"0 0 24 24\"\n",
              "     width=\"24px\">\n",
              "    <g>\n",
              "        <path d=\"M19 3H5c-1.1 0-2 .9-2 2v14c0 1.1.9 2 2 2h14c1.1 0 2-.9 2-2V5c0-1.1-.9-2-2-2zM9 17H7v-7h2v7zm4 0h-2V7h2v10zm4 0h-2v-4h2v4z\"/>\n",
              "    </g>\n",
              "</svg>\n",
              "  </button>\n",
              "\n",
              "<style>\n",
              "  .colab-df-quickchart {\n",
              "      --bg-color: #E8F0FE;\n",
              "      --fill-color: #1967D2;\n",
              "      --hover-bg-color: #E2EBFA;\n",
              "      --hover-fill-color: #174EA6;\n",
              "      --disabled-fill-color: #AAA;\n",
              "      --disabled-bg-color: #DDD;\n",
              "  }\n",
              "\n",
              "  [theme=dark] .colab-df-quickchart {\n",
              "      --bg-color: #3B4455;\n",
              "      --fill-color: #D2E3FC;\n",
              "      --hover-bg-color: #434B5C;\n",
              "      --hover-fill-color: #FFFFFF;\n",
              "      --disabled-bg-color: #3B4455;\n",
              "      --disabled-fill-color: #666;\n",
              "  }\n",
              "\n",
              "  .colab-df-quickchart {\n",
              "    background-color: var(--bg-color);\n",
              "    border: none;\n",
              "    border-radius: 50%;\n",
              "    cursor: pointer;\n",
              "    display: none;\n",
              "    fill: var(--fill-color);\n",
              "    height: 32px;\n",
              "    padding: 0;\n",
              "    width: 32px;\n",
              "  }\n",
              "\n",
              "  .colab-df-quickchart:hover {\n",
              "    background-color: var(--hover-bg-color);\n",
              "    box-shadow: 0 1px 2px rgba(60, 64, 67, 0.3), 0 1px 3px 1px rgba(60, 64, 67, 0.15);\n",
              "    fill: var(--button-hover-fill-color);\n",
              "  }\n",
              "\n",
              "  .colab-df-quickchart-complete:disabled,\n",
              "  .colab-df-quickchart-complete:disabled:hover {\n",
              "    background-color: var(--disabled-bg-color);\n",
              "    fill: var(--disabled-fill-color);\n",
              "    box-shadow: none;\n",
              "  }\n",
              "\n",
              "  .colab-df-spinner {\n",
              "    border: 2px solid var(--fill-color);\n",
              "    border-color: transparent;\n",
              "    border-bottom-color: var(--fill-color);\n",
              "    animation:\n",
              "      spin 1s steps(1) infinite;\n",
              "  }\n",
              "\n",
              "  @keyframes spin {\n",
              "    0% {\n",
              "      border-color: transparent;\n",
              "      border-bottom-color: var(--fill-color);\n",
              "      border-left-color: var(--fill-color);\n",
              "    }\n",
              "    20% {\n",
              "      border-color: transparent;\n",
              "      border-left-color: var(--fill-color);\n",
              "      border-top-color: var(--fill-color);\n",
              "    }\n",
              "    30% {\n",
              "      border-color: transparent;\n",
              "      border-left-color: var(--fill-color);\n",
              "      border-top-color: var(--fill-color);\n",
              "      border-right-color: var(--fill-color);\n",
              "    }\n",
              "    40% {\n",
              "      border-color: transparent;\n",
              "      border-right-color: var(--fill-color);\n",
              "      border-top-color: var(--fill-color);\n",
              "    }\n",
              "    60% {\n",
              "      border-color: transparent;\n",
              "      border-right-color: var(--fill-color);\n",
              "    }\n",
              "    80% {\n",
              "      border-color: transparent;\n",
              "      border-right-color: var(--fill-color);\n",
              "      border-bottom-color: var(--fill-color);\n",
              "    }\n",
              "    90% {\n",
              "      border-color: transparent;\n",
              "      border-bottom-color: var(--fill-color);\n",
              "    }\n",
              "  }\n",
              "</style>\n",
              "\n",
              "  <script>\n",
              "    async function quickchart(key) {\n",
              "      const quickchartButtonEl =\n",
              "        document.querySelector('#' + key + ' button');\n",
              "      quickchartButtonEl.disabled = true;  // To prevent multiple clicks.\n",
              "      quickchartButtonEl.classList.add('colab-df-spinner');\n",
              "      try {\n",
              "        const charts = await google.colab.kernel.invokeFunction(\n",
              "            'suggestCharts', [key], {});\n",
              "      } catch (error) {\n",
              "        console.error('Error during call to suggestCharts:', error);\n",
              "      }\n",
              "      quickchartButtonEl.classList.remove('colab-df-spinner');\n",
              "      quickchartButtonEl.classList.add('colab-df-quickchart-complete');\n",
              "    }\n",
              "    (() => {\n",
              "      let quickchartButtonEl =\n",
              "        document.querySelector('#df-7252cb4c-b937-4fb9-a309-9bce6e26422a button');\n",
              "      quickchartButtonEl.style.display =\n",
              "        google.colab.kernel.accessAllowed ? 'block' : 'none';\n",
              "    })();\n",
              "  </script>\n",
              "</div>\n",
              "\n",
              "    </div>\n",
              "  </div>\n"
            ],
            "text/plain": [
              "                    gene_ids     mt\n",
              "MIR1302-2HG  ENSG00000243485  False\n",
              "FAM138A      ENSG00000237613  False\n",
              "OR4F5        ENSG00000186092  False\n",
              "AL627309.1   ENSG00000238009  False\n",
              "AL627309.3   ENSG00000239945  False\n",
              "...                      ...    ...\n",
              "AC141272.1   ENSG00000277836  False\n",
              "AC023491.2   ENSG00000278633  False\n",
              "AC007325.1   ENSG00000276017  False\n",
              "AC007325.4   ENSG00000278817  False\n",
              "AC007325.2   ENSG00000277196  False\n",
              "\n",
              "[36601 rows x 2 columns]"
            ]
          },
          "execution_count": 13,
          "metadata": {},
          "output_type": "execute_result"
        }
      ],
      "source": [
        "# DataFrame with genes' annotation\n",
        "\n",
        "del adata.var[\"genome\"], adata.var[\"feature_types\"]\n",
        "adata.var[\"mt\"] = adata.var.index.str.startswith(\"MT-\")\n",
        "adata.var"
      ]
    },
    {
      "cell_type": "code",
      "execution_count": null,
      "metadata": {
        "colab": {
          "base_uri": "https://localhost:8080/",
          "height": 448
        },
        "id": "ppUzijpEtWy5",
        "outputId": "ff02c88d-2fdc-4755-921e-aec4cccce03e"
      },
      "outputs": [
        {
          "data": {
            "image/png": "[encoded data removed]",
            "text/plain": [
              "<Figure size 640x480 with 1 Axes>"
            ]
          },
          "metadata": {},
          "output_type": "display_data"
        }
      ],
      "source": [
        "# Embeddings plotting\n",
        "\n",
        "adata.obsm[\"my_embedding\"] = np.random.normal(size=(11996, 2))\n",
        "adata.obs[\"cluster\"] = [\"1\" if i else \"2\" for i in (adata.obsm[\"my_embedding\"][:, 1] + adata.obsm[\"my_embedding\"][:, 0] < 0)]\n",
        "\n",
        "sc.pl.embedding(adata, basis=\"my_embedding\", color=\"cluster\")"
      ]
    },
    {
      "cell_type": "code",
      "execution_count": null,
      "metadata": {
        "colab": {
          "base_uri": "https://localhost:8080/",
          "height": 339
        },
        "id": "ngUS3E633Hqm",
        "outputId": "033df615-f1a3-4639-aeb1-b72833f42410"
      },
      "outputs": [
        {
          "ename": "KeyError",
          "evalue": "\"Values ['TTTGTTGTCTCATTAC-1', 'TTTGTTGGTTGGATCT-1'], from ['TTTGTTGTCTCATTAC-1', 'TTTGTTGGTTGGATCT-1'], are not valid obs/ var names or indices.\"",
          "output_type": "error",
          "traceback": [
            "\u001b[0;31m---------------------------------------------------------------------------\u001b[0m",
            "\u001b[0;31mKeyError\u001b[0m                                  Traceback (most recent call last)",
            "\u001b[0;32m<ipython-input-27-528296c9d0ca>\u001b[0m in \u001b[0;36m<cell line: 3>\u001b[0;34m()\u001b[0m\n\u001b[1;32m      1\u001b[0m \u001b[0;31m# Subselection in AnnData objects\u001b[0m\u001b[0;34m\u001b[0m\u001b[0;34m\u001b[0m\u001b[0m\n\u001b[1;32m      2\u001b[0m \u001b[0;34m\u001b[0m\u001b[0m\n\u001b[0;32m----> 3\u001b[0;31m \u001b[0madata\u001b[0m\u001b[0;34m[\u001b[0m\u001b[0;34m[\u001b[0m\u001b[0;34m\"TTTGTTGTCTCATTAC-1\"\u001b[0m\u001b[0;34m,\u001b[0m \u001b[0;34m\"TTTGTTGGTTGGATCT-1\"\u001b[0m\u001b[0;34m]\u001b[0m\u001b[0;34m,\u001b[0m \u001b[0;34m[\u001b[0m\u001b[0;34m\"CD4\"\u001b[0m\u001b[0;34m,\u001b[0m \u001b[0;34m\"CD8A\"\u001b[0m\u001b[0;34m]\u001b[0m\u001b[0;34m]\u001b[0m\u001b[0;34m\u001b[0m\u001b[0;34m\u001b[0m\u001b[0m\n\u001b[0m",
            "\u001b[0;32m/usr/local/lib/python3.10/dist-packages/anndata/_core/anndata.py\u001b[0m in \u001b[0;36m__getitem__\u001b[0;34m(self, index)\u001b[0m\n\u001b[1;32m   1083\u001b[0m     \u001b[0;32mdef\u001b[0m \u001b[0m__getitem__\u001b[0m\u001b[0;34m(\u001b[0m\u001b[0mself\u001b[0m\u001b[0;34m,\u001b[0m \u001b[0mindex\u001b[0m\u001b[0;34m:\u001b[0m \u001b[0mIndex\u001b[0m\u001b[0;34m)\u001b[0m \u001b[0;34m->\u001b[0m \u001b[0mAnnData\u001b[0m\u001b[0;34m:\u001b[0m\u001b[0;34m\u001b[0m\u001b[0;34m\u001b[0m\u001b[0m\n\u001b[1;32m   1084\u001b[0m         \u001b[0;34m\"\"\"Returns a sliced view of the object.\"\"\"\u001b[0m\u001b[0;34m\u001b[0m\u001b[0;34m\u001b[0m\u001b[0m\n\u001b[0;32m-> 1085\u001b[0;31m         \u001b[0moidx\u001b[0m\u001b[0;34m,\u001b[0m \u001b[0mvidx\u001b[0m \u001b[0;34m=\u001b[0m \u001b[0mself\u001b[0m\u001b[0;34m.\u001b[0m\u001b[0m_normalize_indices\u001b[0m\u001b[0;34m(\u001b[0m\u001b[0mindex\u001b[0m\u001b[0;34m)\u001b[0m\u001b[0;34m\u001b[0m\u001b[0;34m\u001b[0m\u001b[0m\n\u001b[0m\u001b[1;32m   1086\u001b[0m         \u001b[0;32mreturn\u001b[0m \u001b[0mAnnData\u001b[0m\u001b[0;34m(\u001b[0m\u001b[0mself\u001b[0m\u001b[0;34m,\u001b[0m \u001b[0moidx\u001b[0m\u001b[0;34m=\u001b[0m\u001b[0moidx\u001b[0m\u001b[0;34m,\u001b[0m \u001b[0mvidx\u001b[0m\u001b[0;34m=\u001b[0m\u001b[0mvidx\u001b[0m\u001b[0;34m,\u001b[0m \u001b[0masview\u001b[0m\u001b[0;34m=\u001b[0m\u001b[0;32mTrue\u001b[0m\u001b[0;34m)\u001b[0m\u001b[0;34m\u001b[0m\u001b[0;34m\u001b[0m\u001b[0m\n\u001b[1;32m   1087\u001b[0m \u001b[0;34m\u001b[0m\u001b[0m\n",
            "\u001b[0;32m/usr/local/lib/python3.10/dist-packages/anndata/_core/anndata.py\u001b[0m in \u001b[0;36m_normalize_indices\u001b[0;34m(self, index)\u001b[0m\n\u001b[1;32m   1064\u001b[0m \u001b[0;34m\u001b[0m\u001b[0m\n\u001b[1;32m   1065\u001b[0m     \u001b[0;32mdef\u001b[0m \u001b[0m_normalize_indices\u001b[0m\u001b[0;34m(\u001b[0m\u001b[0mself\u001b[0m\u001b[0;34m,\u001b[0m \u001b[0mindex\u001b[0m\u001b[0;34m:\u001b[0m \u001b[0mIndex\u001b[0m \u001b[0;34m|\u001b[0m \u001b[0;32mNone\u001b[0m\u001b[0;34m)\u001b[0m \u001b[0;34m->\u001b[0m \u001b[0mtuple\u001b[0m\u001b[0;34m[\u001b[0m\u001b[0mslice\u001b[0m\u001b[0;34m,\u001b[0m \u001b[0mslice\u001b[0m\u001b[0;34m]\u001b[0m\u001b[0;34m:\u001b[0m\u001b[0;34m\u001b[0m\u001b[0;34m\u001b[0m\u001b[0m\n\u001b[0;32m-> 1066\u001b[0;31m         \u001b[0;32mreturn\u001b[0m \u001b[0m_normalize_indices\u001b[0m\u001b[0;34m(\u001b[0m\u001b[0mindex\u001b[0m\u001b[0;34m,\u001b[0m \u001b[0mself\u001b[0m\u001b[0;34m.\u001b[0m\u001b[0mobs_names\u001b[0m\u001b[0;34m,\u001b[0m \u001b[0mself\u001b[0m\u001b[0;34m.\u001b[0m\u001b[0mvar_names\u001b[0m\u001b[0;34m)\u001b[0m\u001b[0;34m\u001b[0m\u001b[0;34m\u001b[0m\u001b[0m\n\u001b[0m\u001b[1;32m   1067\u001b[0m \u001b[0;34m\u001b[0m\u001b[0m\n\u001b[1;32m   1068\u001b[0m     \u001b[0;31m# TODO: this is not quite complete...\u001b[0m\u001b[0;34m\u001b[0m\u001b[0;34m\u001b[0m\u001b[0m\n",
            "\u001b[0;32m/usr/local/lib/python3.10/dist-packages/anndata/_core/index.py\u001b[0m in \u001b[0;36m_normalize_indices\u001b[0;34m(index, names0, names1)\u001b[0m\n\u001b[1;32m     33\u001b[0m             \u001b[0mindex\u001b[0m \u001b[0;34m=\u001b[0m \u001b[0mindex\u001b[0m\u001b[0;34m[\u001b[0m\u001b[0;36m0\u001b[0m\u001b[0;34m]\u001b[0m\u001b[0;34m.\u001b[0m\u001b[0mvalues\u001b[0m\u001b[0;34m,\u001b[0m \u001b[0mindex\u001b[0m\u001b[0;34m[\u001b[0m\u001b[0;36m1\u001b[0m\u001b[0;34m]\u001b[0m\u001b[0;34m\u001b[0m\u001b[0;34m\u001b[0m\u001b[0m\n\u001b[1;32m     34\u001b[0m     \u001b[0max0\u001b[0m\u001b[0;34m,\u001b[0m \u001b[0max1\u001b[0m \u001b[0;34m=\u001b[0m \u001b[0munpack_index\u001b[0m\u001b[0;34m(\u001b[0m\u001b[0mindex\u001b[0m\u001b[0;34m)\u001b[0m\u001b[0;34m\u001b[0m\u001b[0;34m\u001b[0m\u001b[0m\n\u001b[0;32m---> 35\u001b[0;31m     \u001b[0max0\u001b[0m \u001b[0;34m=\u001b[0m \u001b[0m_normalize_index\u001b[0m\u001b[0;34m(\u001b[0m\u001b[0max0\u001b[0m\u001b[0;34m,\u001b[0m \u001b[0mnames0\u001b[0m\u001b[0;34m)\u001b[0m\u001b[0;34m\u001b[0m\u001b[0;34m\u001b[0m\u001b[0m\n\u001b[0m\u001b[1;32m     36\u001b[0m     \u001b[0max1\u001b[0m \u001b[0;34m=\u001b[0m \u001b[0m_normalize_index\u001b[0m\u001b[0;34m(\u001b[0m\u001b[0max1\u001b[0m\u001b[0;34m,\u001b[0m \u001b[0mnames1\u001b[0m\u001b[0;34m)\u001b[0m\u001b[0;34m\u001b[0m\u001b[0;34m\u001b[0m\u001b[0m\n\u001b[1;32m     37\u001b[0m     \u001b[0;32mreturn\u001b[0m \u001b[0max0\u001b[0m\u001b[0;34m,\u001b[0m \u001b[0max1\u001b[0m\u001b[0;34m\u001b[0m\u001b[0;34m\u001b[0m\u001b[0m\n",
            "\u001b[0;32m/usr/local/lib/python3.10/dist-packages/anndata/_core/index.py\u001b[0m in \u001b[0;36m_normalize_index\u001b[0;34m(indexer, index)\u001b[0m\n\u001b[1;32m     98\u001b[0m             \u001b[0;32mif\u001b[0m \u001b[0mnp\u001b[0m\u001b[0;34m.\u001b[0m\u001b[0many\u001b[0m\u001b[0;34m(\u001b[0m\u001b[0mpositions\u001b[0m \u001b[0;34m<\u001b[0m \u001b[0;36m0\u001b[0m\u001b[0;34m)\u001b[0m\u001b[0;34m:\u001b[0m\u001b[0;34m\u001b[0m\u001b[0;34m\u001b[0m\u001b[0m\n\u001b[1;32m     99\u001b[0m                 \u001b[0mnot_found\u001b[0m \u001b[0;34m=\u001b[0m \u001b[0mindexer\u001b[0m\u001b[0;34m[\u001b[0m\u001b[0mpositions\u001b[0m \u001b[0;34m<\u001b[0m \u001b[0;36m0\u001b[0m\u001b[0;34m]\u001b[0m\u001b[0;34m\u001b[0m\u001b[0;34m\u001b[0m\u001b[0m\n\u001b[0;32m--> 100\u001b[0;31m                 raise KeyError(\n\u001b[0m\u001b[1;32m    101\u001b[0m                     \u001b[0;34mf\"Values {list(not_found)}, from {list(indexer)}, \"\u001b[0m\u001b[0;34m\u001b[0m\u001b[0;34m\u001b[0m\u001b[0m\n\u001b[1;32m    102\u001b[0m                     \u001b[0;34m\"are not valid obs/ var names or indices.\"\u001b[0m\u001b[0;34m\u001b[0m\u001b[0;34m\u001b[0m\u001b[0m\n",
            "\u001b[0;31mKeyError\u001b[0m: \"Values ['TTTGTTGTCTCATTAC-1', 'TTTGTTGGTTGGATCT-1'], from ['TTTGTTGTCTCATTAC-1', 'TTTGTTGGTTGGATCT-1'], are not valid obs/ var names or indices.\""
          ]
        }
      ],
      "source": [
        "# Subselection in AnnData objects\n",
        "\n",
        "adata[[\"TTTGTTGTCTCATTAC-1\", \"TTTGTTGGTTGGATCT-1\"], [\"CD4\", \"CD8A\"]]"
      ]
    },
    {
      "cell_type": "code",
      "execution_count": null,
      "metadata": {
        "colab": {
          "base_uri": "https://localhost:8080/"
        },
        "id": "MHWXuVEJRyRi",
        "outputId": "014bb5ae-c69a-48db-b4b6-a904b8d9cc47"
      },
      "outputs": [
        {
          "data": {
            "text/plain": [
              "<11996x36601 sparse matrix of type '<class 'numpy.float32'>'\n",
              "\twith 27164608 stored elements in Compressed Sparse Row format>"
            ]
          },
          "execution_count": 16,
          "metadata": {},
          "output_type": "execute_result"
        }
      ],
      "source": [
        "# Layers in AnnData object\n",
        "\n",
        "adata.layers[\"counts\"] = adata.X.copy()\n",
        "adata.layers[\"counts\"]"
      ]
    },
    {
      "cell_type": "code",
      "execution_count": null,
      "metadata": {
        "id": "skx6nuR4vJmB"
      },
      "outputs": [],
      "source": [
        "# Saving AnnData object\n",
        "\n",
        "adata.write_h5ad(\"adata.h5ad\")"
      ]
    },
    {
      "cell_type": "markdown",
      "metadata": {
        "id": "ALrxCLvj4_II"
      },
      "source": [
        "## Diagnostic plots for cells' QC"
      ]
    },
    {
      "cell_type": "code",
      "execution_count": null,
      "metadata": {
        "colab": {
          "base_uri": "https://localhost:8080/",
          "height": 211
        },
        "id": "IHp-_Dl75Bhr",
        "outputId": "5cbe97fe-5735-4fb5-9767-562106e4a026"
      },
      "outputs": [
        {
          "ename": "AttributeError",
          "evalue": "'numpy.ndarray' object has no attribute 'A'",
          "output_type": "error",
          "traceback": [
            "\u001b[0;31m---------------------------------------------------------------------------\u001b[0m",
            "\u001b[0;31mAttributeError\u001b[0m                            Traceback (most recent call last)",
            "\u001b[0;32m<ipython-input-26-1b1b0cd51135>\u001b[0m in \u001b[0;36m<cell line: 3>\u001b[0;34m()\u001b[0m\n\u001b[1;32m      1\u001b[0m \u001b[0;31m# UMI per cell distribution\u001b[0m\u001b[0;34m\u001b[0m\u001b[0;34m\u001b[0m\u001b[0m\n\u001b[1;32m      2\u001b[0m \u001b[0;34m\u001b[0m\u001b[0m\n\u001b[0;32m----> 3\u001b[0;31m \u001b[0mcounts_per_cell\u001b[0m \u001b[0;34m=\u001b[0m \u001b[0madata\u001b[0m\u001b[0;34m.\u001b[0m\u001b[0mX\u001b[0m\u001b[0;34m.\u001b[0m\u001b[0msum\u001b[0m\u001b[0;34m(\u001b[0m\u001b[0maxis\u001b[0m\u001b[0;34m=\u001b[0m\u001b[0;36m1\u001b[0m\u001b[0;34m)\u001b[0m\u001b[0;34m.\u001b[0m\u001b[0mA\u001b[0m\u001b[0;34m.\u001b[0m\u001b[0mT\u001b[0m\u001b[0;34m[\u001b[0m\u001b[0;36m0\u001b[0m\u001b[0;34m]\u001b[0m\u001b[0;34m\u001b[0m\u001b[0;34m\u001b[0m\u001b[0m\n\u001b[0m\u001b[1;32m      4\u001b[0m \u001b[0msns\u001b[0m\u001b[0;34m.\u001b[0m\u001b[0mhistplot\u001b[0m\u001b[0;34m(\u001b[0m\u001b[0mcounts_per_cell\u001b[0m\u001b[0;34m)\u001b[0m\u001b[0;34m\u001b[0m\u001b[0;34m\u001b[0m\u001b[0m\n\u001b[1;32m      5\u001b[0m \u001b[0mcounts_per_cell\u001b[0m\u001b[0;34m.\u001b[0m\u001b[0mshape\u001b[0m\u001b[0;34m\u001b[0m\u001b[0;34m\u001b[0m\u001b[0m\n",
            "\u001b[0;31mAttributeError\u001b[0m: 'numpy.ndarray' object has no attribute 'A'"
          ]
        }
      ],
      "source": [
        "# UMI per cell distribution\n",
        "\n",
        "counts_per_cell = adata.X.sum(axis=1).A.T[0]\n",
        "sns.histplot(counts_per_cell)\n",
        "counts_per_cell.shape"
      ]
    },
    {
      "cell_type": "code",
      "execution_count": null,
      "metadata": {
        "colab": {
          "base_uri": "https://localhost:8080/",
          "height": 447
        },
        "id": "3KpMGPUm3X2W",
        "outputId": "f6106127-9cc5-459a-ec3d-f84a44d83585"
      },
      "outputs": [
        {
          "data": {
            "text/plain": [
              "<Axes: ylabel='Count'>"
            ]
          },
          "execution_count": 19,
          "metadata": {},
          "output_type": "execute_result"
        },
        {
          "data": {
            "image/png": "[encoded data removed]",
            "text/plain": [
              "<Figure size 640x480 with 1 Axes>"
            ]
          },
          "metadata": {},
          "output_type": "display_data"
        }
      ],
      "source": [
        "# Number of genes per cell distribution\n",
        "\n",
        "genes_per_cell = (adata.X > 0).sum(axis=1).T.A[0]\n",
        "sns.histplot(genes_per_cell)"
      ]
    },
    {
      "cell_type": "code",
      "execution_count": null,
      "metadata": {
        "colab": {
          "base_uri": "https://localhost:8080/",
          "height": 447
        },
        "id": "kgf7r-JfQ1yw",
        "outputId": "b8d902ac-42b5-4cc9-aa13-544a8d46bea3"
      },
      "outputs": [
        {
          "data": {
            "text/plain": [
              "<Axes: ylabel='Count'>"
            ]
          },
          "execution_count": 20,
          "metadata": {},
          "output_type": "execute_result"
        },
        {
          "data": {
            "image/png": "[encoded data removed]",
            "text/plain": [
              "<Figure size 640x480 with 1 Axes>"
            ]
          },
          "metadata": {},
          "output_type": "display_data"
        }
      ],
      "source": [
        "# % of mitochondrial expression per each cell distribution\n",
        "\n",
        "mito_counts = adata[:, adata.var[\"mt\"]].X.sum(axis=1).T.A[0]\n",
        "mito_pct = mito_counts / counts_per_cell * 100\n",
        "sns.histplot(mito_pct, bins=50)"
      ]
    },
    {
      "cell_type": "markdown",
      "metadata": {
        "id": "npytM_CFCLVp"
      },
      "source": [
        "# Hometask"
      ]
    },
    {
      "cell_type": "markdown",
      "metadata": {
        "id": "wLRD9CFGsPUh"
      },
      "source": [
        "## Task 1\n",
        "\n",
        "Number of UMIs per cell in the dataset is distributed (approximately) bimodally. What is the reason for that? Please provide some papers and/or resourses when this phenomenon is described."
      ]
    },
    {
      "cell_type": "markdown",
      "source": [
        "Причина, по которой распределение UMI на клетку может быть бимодально, заключается в наличии пустых капель в которых может существовать лишь \"бульон\" РНК. От данных образцов следует избавляться, выставляя порог UMI на клетку.\n",
        "\n",
        "\n",
        "Ссылки на статьи:\n",
        "\n",
        "\n",
        "1. Highly Parallel Genome-wide Expression Profiling of\n",
        "Individual Cells Using Nanoliter Droplets\n",
        "http://dx.doi.org/10.1016/j.cell.2015.05.002\n",
        "2. https://www.10xgenomics.com/analysis-guides/common-considerations-for-quality-control-filters-for-single-cell-rna-seq-data"
      ],
      "metadata": {
        "id": "bM2ldD6d9ZRA"
      }
    },
    {
      "cell_type": "markdown",
      "metadata": {
        "id": "sveU7TybseS8"
      },
      "source": [
        "## Task 2\n",
        "\n",
        "Using [Cellxgene Portal](https://cellxgene.cziscience.com/) please select the dataset of your scientific interest and perform QC. Are you happy with it? Please save files in `loom` format and describe the features of such a format."
      ]
    },
    {
      "cell_type": "code",
      "execution_count": 1,
      "metadata": {
        "colab": {
          "base_uri": "https://localhost:8080/"
        },
        "id": "THTZiqKQteZi",
        "outputId": "36d9ec77-2e0c-4724-e9ee-42dd5b4cd7ec"
      },
      "outputs": [
        {
          "output_type": "stream",
          "name": "stdout",
          "text": [
            "Файл f26b1d6c-798b-4719-93d1-d01072bbe4b0.h5ad успешно скачан.\n"
          ]
        }
      ],
      "source": [
        "import requests\n",
        "\n",
        "# URL для скачивания\n",
        "url = 'https://datasets.cellxgene.cziscience.com/f26b1d6c-798b-4719-93d1-d01072bbe4b0.h5ad'\n",
        "\n",
        "# Отправка GET-запроса для скачивания файла\n",
        "response = requests.get(url)\n",
        "\n",
        "# Проверка успешности запроса\n",
        "if response.status_code == 200:\n",
        "    filename = url.split('/')[-1]\n",
        "\n",
        "    # Сохранение файла в текущую директорию\n",
        "    with open('Dataset2.h5ad', 'wb') as f:\n",
        "        f.write(response.content)\n",
        "\n",
        "    print(f'Файл {filename} успешно скачан.')\n",
        "else:\n",
        "    print('Ошибка при скачивании файла.')\n"
      ]
    },
    {
      "cell_type": "code",
      "execution_count": 9,
      "metadata": {
        "colab": {
          "base_uri": "https://localhost:8080/"
        },
        "id": "g3SXGBzMbrnH",
        "outputId": "b7632b30-787c-47c5-ba08-9cfae553fed6"
      },
      "outputs": [
        {
          "output_type": "stream",
          "name": "stdout",
          "text": [
            "Requirement already satisfied: scanpy in /usr/local/lib/python3.10/dist-packages (1.10.2)\n",
            "Requirement already satisfied: anndata>=0.8 in /usr/local/lib/python3.10/dist-packages (from scanpy) (0.10.8)\n",
            "Requirement already satisfied: h5py>=3.1 in /usr/local/lib/python3.10/dist-packages (from scanpy) (3.9.0)\n",
            "Requirement already satisfied: joblib in /usr/local/lib/python3.10/dist-packages (from scanpy) (1.4.2)\n",
            "Requirement already satisfied: legacy-api-wrap>=1.4 in /usr/local/lib/python3.10/dist-packages (from scanpy) (1.4)\n",
            "Requirement already satisfied: matplotlib>=3.6 in /usr/local/lib/python3.10/dist-packages (from scanpy) (3.7.1)\n",
            "Requirement already satisfied: natsort in /usr/local/lib/python3.10/dist-packages (from scanpy) (8.4.0)\n",
            "Requirement already satisfied: networkx>=2.7 in /usr/local/lib/python3.10/dist-packages (from scanpy) (3.3)\n",
            "Requirement already satisfied: numba>=0.56 in /usr/local/lib/python3.10/dist-packages (from scanpy) (0.58.1)\n",
            "Requirement already satisfied: numpy<2,>=1.23 in /usr/local/lib/python3.10/dist-packages (from scanpy) (1.25.2)\n",
            "Requirement already satisfied: packaging>=21.3 in /usr/local/lib/python3.10/dist-packages (from scanpy) (24.1)\n",
            "Requirement already satisfied: pandas>=1.5 in /usr/local/lib/python3.10/dist-packages (from scanpy) (2.0.3)\n",
            "Requirement already satisfied: patsy in /usr/local/lib/python3.10/dist-packages (from scanpy) (0.5.6)\n",
            "Requirement already satisfied: pynndescent>=0.5 in /usr/local/lib/python3.10/dist-packages (from scanpy) (0.5.13)\n",
            "Requirement already satisfied: scikit-learn>=0.24 in /usr/local/lib/python3.10/dist-packages (from scanpy) (1.2.2)\n",
            "Requirement already satisfied: scipy>=1.8 in /usr/local/lib/python3.10/dist-packages (from scanpy) (1.11.4)\n",
            "Requirement already satisfied: seaborn>=0.13 in /usr/local/lib/python3.10/dist-packages (from scanpy) (0.13.1)\n",
            "Requirement already satisfied: session-info in /usr/local/lib/python3.10/dist-packages (from scanpy) (1.0.0)\n",
            "Requirement already satisfied: statsmodels>=0.13 in /usr/local/lib/python3.10/dist-packages (from scanpy) (0.14.2)\n",
            "Requirement already satisfied: tqdm in /usr/local/lib/python3.10/dist-packages (from scanpy) (4.66.4)\n",
            "Requirement already satisfied: umap-learn!=0.5.0,>=0.5 in /usr/local/lib/python3.10/dist-packages (from scanpy) (0.5.6)\n",
            "Requirement already satisfied: array-api-compat!=1.5,>1.4 in /usr/local/lib/python3.10/dist-packages (from anndata>=0.8->scanpy) (1.7.1)\n",
            "Requirement already satisfied: exceptiongroup in /usr/local/lib/python3.10/dist-packages (from anndata>=0.8->scanpy) (1.2.1)\n",
            "Requirement already satisfied: contourpy>=1.0.1 in /usr/local/lib/python3.10/dist-packages (from matplotlib>=3.6->scanpy) (1.2.1)\n",
            "Requirement already satisfied: cycler>=0.10 in /usr/local/lib/python3.10/dist-packages (from matplotlib>=3.6->scanpy) (0.12.1)\n",
            "Requirement already satisfied: fonttools>=4.22.0 in /usr/local/lib/python3.10/dist-packages (from matplotlib>=3.6->scanpy) (4.53.1)\n",
            "Requirement already satisfied: kiwisolver>=1.0.1 in /usr/local/lib/python3.10/dist-packages (from matplotlib>=3.6->scanpy) (1.4.5)\n",
            "Requirement already satisfied: pillow>=6.2.0 in /usr/local/lib/python3.10/dist-packages (from matplotlib>=3.6->scanpy) (9.4.0)\n",
            "Requirement already satisfied: pyparsing>=2.3.1 in /usr/local/lib/python3.10/dist-packages (from matplotlib>=3.6->scanpy) (3.1.2)\n",
            "Requirement already satisfied: python-dateutil>=2.7 in /usr/local/lib/python3.10/dist-packages (from matplotlib>=3.6->scanpy) (2.8.2)\n",
            "Requirement already satisfied: llvmlite<0.42,>=0.41.0dev0 in /usr/local/lib/python3.10/dist-packages (from numba>=0.56->scanpy) (0.41.1)\n",
            "Requirement already satisfied: pytz>=2020.1 in /usr/local/lib/python3.10/dist-packages (from pandas>=1.5->scanpy) (2023.4)\n",
            "Requirement already satisfied: tzdata>=2022.1 in /usr/local/lib/python3.10/dist-packages (from pandas>=1.5->scanpy) (2024.1)\n",
            "Requirement already satisfied: threadpoolctl>=2.0.0 in /usr/local/lib/python3.10/dist-packages (from scikit-learn>=0.24->scanpy) (3.5.0)\n",
            "Requirement already satisfied: six in /usr/local/lib/python3.10/dist-packages (from patsy->scanpy) (1.16.0)\n",
            "Requirement already satisfied: stdlib-list in /usr/local/lib/python3.10/dist-packages (from session-info->scanpy) (0.10.0)\n",
            "Collecting pyensembl\n",
            "  Downloading pyensembl-2.3.13-py3-none-any.whl (55 kB)\n",
            "\u001b[2K     \u001b[90m━━━━━━━━━━━━━━━━━━━━━━━━━━━━━━━━━━━━━━━━\u001b[0m \u001b[32m56.0/56.0 kB\u001b[0m \u001b[31m1.5 MB/s\u001b[0m eta \u001b[36m0:00:00\u001b[0m\n",
            "\u001b[?25hCollecting typechecks<1.0.0,>=0.0.2 (from pyensembl)\n",
            "  Downloading typechecks-0.1.0.tar.gz (3.4 kB)\n",
            "  Preparing metadata (setup.py) ... \u001b[?25l\u001b[?25hdone\n",
            "Collecting datacache<2.0.0,>=1.4.0 (from pyensembl)\n",
            "  Downloading datacache-1.4.1-py3-none-any.whl (20 kB)\n",
            "Collecting memoized-property>=1.0.2 (from pyensembl)\n",
            "  Downloading memoized-property-1.0.3.tar.gz (5.0 kB)\n",
            "  Preparing metadata (setup.py) ... \u001b[?25l\u001b[?25hdone\n",
            "Collecting tinytimer<1.0.0,>=0.0.0 (from pyensembl)\n",
            "  Downloading tinytimer-0.0.0.tar.gz (2.1 kB)\n",
            "  Preparing metadata (setup.py) ... \u001b[?25l\u001b[?25hdone\n",
            "Collecting gtfparse<3.0.0,>=2.5.0 (from pyensembl)\n",
            "  Downloading gtfparse-2.5.0-py3-none-any.whl (15 kB)\n",
            "Collecting serializable<1.0.0,>=0.2.1 (from pyensembl)\n",
            "  Downloading serializable-0.4.1-py3-none-any.whl (12 kB)\n",
            "Collecting pylint<3.0.0,>=2.17.2 (from pyensembl)\n",
            "  Downloading pylint-2.17.7-py3-none-any.whl (537 kB)\n",
            "\u001b[2K     \u001b[90m━━━━━━━━━━━━━━━━━━━━━━━━━━━━━━━━━━━━━━━━\u001b[0m \u001b[32m537.2/537.2 kB\u001b[0m \u001b[31m13.3 MB/s\u001b[0m eta \u001b[36m0:00:00\u001b[0m\n",
            "\u001b[?25hRequirement already satisfied: pandas>=0.15.2 in /usr/local/lib/python3.10/dist-packages (from datacache<2.0.0,>=1.4.0->pyensembl) (2.0.3)\n",
            "Collecting appdirs>=1.4.0 (from datacache<2.0.0,>=1.4.0->pyensembl)\n",
            "  Downloading appdirs-1.4.4-py2.py3-none-any.whl (9.6 kB)\n",
            "Collecting progressbar33>=2.4 (from datacache<2.0.0,>=1.4.0->pyensembl)\n",
            "  Downloading progressbar33-2.4.tar.gz (10 kB)\n",
            "  Preparing metadata (setup.py) ... \u001b[?25l\u001b[?25hdone\n",
            "Requirement already satisfied: requests>=2.5.1 in /usr/local/lib/python3.10/dist-packages (from datacache<2.0.0,>=1.4.0->pyensembl) (2.31.0)\n",
            "Collecting mock (from datacache<2.0.0,>=1.4.0->pyensembl)\n",
            "  Downloading mock-5.1.0-py3-none-any.whl (30 kB)\n",
            "Requirement already satisfied: polars<0.21.0,>=0.20.2 in /usr/local/lib/python3.10/dist-packages (from gtfparse<3.0.0,>=2.5.0->pyensembl) (0.20.2)\n",
            "Requirement already satisfied: pyarrow<14.1.0,>=14.0.2 in /usr/local/lib/python3.10/dist-packages (from gtfparse<3.0.0,>=2.5.0->pyensembl) (14.0.2)\n",
            "Requirement already satisfied: platformdirs>=2.2.0 in /usr/local/lib/python3.10/dist-packages (from pylint<3.0.0,>=2.17.2->pyensembl) (4.2.2)\n",
            "Collecting astroid<=2.17.0-dev0,>=2.15.8 (from pylint<3.0.0,>=2.17.2->pyensembl)\n",
            "  Downloading astroid-2.15.8-py3-none-any.whl (278 kB)\n",
            "\u001b[2K     \u001b[90m━━━━━━━━━━━━━━━━━━━━━━━━━━━━━━━━━━━━━━━━\u001b[0m \u001b[32m278.3/278.3 kB\u001b[0m \u001b[31m26.8 MB/s\u001b[0m eta \u001b[36m0:00:00\u001b[0m\n",
            "\u001b[?25hCollecting isort<6,>=4.2.5 (from pylint<3.0.0,>=2.17.2->pyensembl)\n",
            "  Downloading isort-5.13.2-py3-none-any.whl (92 kB)\n",
            "\u001b[2K     \u001b[90m━━━━━━━━━━━━━━━━━━━━━━━━━━━━━━━━━━━━━━━━\u001b[0m \u001b[32m92.3/92.3 kB\u001b[0m \u001b[31m11.5 MB/s\u001b[0m eta \u001b[36m0:00:00\u001b[0m\n",
            "\u001b[?25hCollecting mccabe<0.8,>=0.6 (from pylint<3.0.0,>=2.17.2->pyensembl)\n",
            "  Downloading mccabe-0.7.0-py2.py3-none-any.whl (7.3 kB)\n",
            "Collecting tomlkit>=0.10.1 (from pylint<3.0.0,>=2.17.2->pyensembl)\n",
            "  Downloading tomlkit-0.13.0-py3-none-any.whl (37 kB)\n",
            "Collecting dill>=0.2 (from pylint<3.0.0,>=2.17.2->pyensembl)\n",
            "  Downloading dill-0.3.8-py3-none-any.whl (116 kB)\n",
            "\u001b[2K     \u001b[90m━━━━━━━━━━━━━━━━━━━━━━━━━━━━━━━━━━━━━━━━\u001b[0m \u001b[32m116.3/116.3 kB\u001b[0m \u001b[31m14.1 MB/s\u001b[0m eta \u001b[36m0:00:00\u001b[0m\n",
            "\u001b[?25hRequirement already satisfied: tomli>=1.1.0 in /usr/local/lib/python3.10/dist-packages (from pylint<3.0.0,>=2.17.2->pyensembl) (2.0.1)\n",
            "Collecting simplejson (from serializable<1.0.0,>=0.2.1->pyensembl)\n",
            "  Downloading simplejson-3.19.2-cp310-cp310-manylinux_2_5_x86_64.manylinux1_x86_64.manylinux_2_17_x86_64.manylinux2014_x86_64.whl (137 kB)\n",
            "\u001b[2K     \u001b[90m━━━━━━━━━━━━━━━━━━━━━━━━━━━━━━━━━━━━━━━━\u001b[0m \u001b[32m137.9/137.9 kB\u001b[0m \u001b[31m14.0 MB/s\u001b[0m eta \u001b[36m0:00:00\u001b[0m\n",
            "\u001b[?25hCollecting lazy-object-proxy>=1.4.0 (from astroid<=2.17.0-dev0,>=2.15.8->pylint<3.0.0,>=2.17.2->pyensembl)\n",
            "  Downloading lazy_object_proxy-1.10.0-cp310-cp310-manylinux_2_5_x86_64.manylinux1_x86_64.manylinux_2_17_x86_64.manylinux2014_x86_64.whl (68 kB)\n",
            "\u001b[2K     \u001b[90m━━━━━━━━━━━━━━━━━━━━━━━━━━━━━━━━━━━━━━━━\u001b[0m \u001b[32m68.3/68.3 kB\u001b[0m \u001b[31m8.8 MB/s\u001b[0m eta \u001b[36m0:00:00\u001b[0m\n",
            "\u001b[?25hRequirement already satisfied: wrapt<2,>=1.11 in /usr/local/lib/python3.10/dist-packages (from astroid<=2.17.0-dev0,>=2.15.8->pylint<3.0.0,>=2.17.2->pyensembl) (1.14.1)\n",
            "Requirement already satisfied: typing-extensions>=4.0.0 in /usr/local/lib/python3.10/dist-packages (from astroid<=2.17.0-dev0,>=2.15.8->pylint<3.0.0,>=2.17.2->pyensembl) (4.12.2)\n",
            "Requirement already satisfied: python-dateutil>=2.8.2 in /usr/local/lib/python3.10/dist-packages (from pandas>=0.15.2->datacache<2.0.0,>=1.4.0->pyensembl) (2.8.2)\n",
            "Requirement already satisfied: pytz>=2020.1 in /usr/local/lib/python3.10/dist-packages (from pandas>=0.15.2->datacache<2.0.0,>=1.4.0->pyensembl) (2023.4)\n",
            "Requirement already satisfied: tzdata>=2022.1 in /usr/local/lib/python3.10/dist-packages (from pandas>=0.15.2->datacache<2.0.0,>=1.4.0->pyensembl) (2024.1)\n",
            "Requirement already satisfied: numpy>=1.21.0 in /usr/local/lib/python3.10/dist-packages (from pandas>=0.15.2->datacache<2.0.0,>=1.4.0->pyensembl) (1.25.2)\n",
            "Requirement already satisfied: charset-normalizer<4,>=2 in /usr/local/lib/python3.10/dist-packages (from requests>=2.5.1->datacache<2.0.0,>=1.4.0->pyensembl) (3.3.2)\n",
            "Requirement already satisfied: idna<4,>=2.5 in /usr/local/lib/python3.10/dist-packages (from requests>=2.5.1->datacache<2.0.0,>=1.4.0->pyensembl) (3.7)\n",
            "Requirement already satisfied: urllib3<3,>=1.21.1 in /usr/local/lib/python3.10/dist-packages (from requests>=2.5.1->datacache<2.0.0,>=1.4.0->pyensembl) (2.0.7)\n",
            "Requirement already satisfied: certifi>=2017.4.17 in /usr/local/lib/python3.10/dist-packages (from requests>=2.5.1->datacache<2.0.0,>=1.4.0->pyensembl) (2024.7.4)\n",
            "Requirement already satisfied: six>=1.5 in /usr/local/lib/python3.10/dist-packages (from python-dateutil>=2.8.2->pandas>=0.15.2->datacache<2.0.0,>=1.4.0->pyensembl) (1.16.0)\n",
            "Building wheels for collected packages: memoized-property, tinytimer, typechecks, progressbar33\n",
            "  Building wheel for memoized-property (setup.py) ... \u001b[?25l\u001b[?25hdone\n",
            "  Created wheel for memoized-property: filename=memoized_property-1.0.3-py2.py3-none-any.whl size=4184 sha256=45bbc4a038108c4200ad740d91b4aecb6c8d371bdc359935d28162ea85d8df88\n",
            "  Stored in directory: /root/.cache/pip/wheels/f7/0f/93/d0497c1248dcc9113cfa09e6ddf52f5636b68bcd6751bad581\n",
            "  Building wheel for tinytimer (setup.py) ... \u001b[?25l\u001b[?25hdone\n",
            "  Created wheel for tinytimer: filename=tinytimer-0.0.0-py3-none-any.whl size=1875 sha256=f9368b8f76924b7c9cb791c076bbeeedda11b601da952533c55690b1137ee264\n",
            "  Stored in directory: /root/.cache/pip/wheels/35/7f/a3/036dd96fcd3da5d509047bcc764790cea8f6c73edadb1cbedc\n",
            "  Building wheel for typechecks (setup.py) ... \u001b[?25l\u001b[?25hdone\n",
            "  Created wheel for typechecks: filename=typechecks-0.1.0-py3-none-any.whl size=2753 sha256=42f501044c9c1dad83bc5e6cb6fb9fa410c3c74b6c7863944dbd3ec4fb9461c5\n",
            "  Stored in directory: /root/.cache/pip/wheels/da/a7/4d/6fb19c879271cf359a24d5bc4d074d53380cc2473f70068c4e\n",
            "  Building wheel for progressbar33 (setup.py) ... \u001b[?25l\u001b[?25hdone\n",
            "  Created wheel for progressbar33: filename=progressbar33-2.4-py3-none-any.whl size=12144 sha256=e27867876be40a1128893df7872938bec6f133543ad3857763839ffb3563dec2\n",
            "  Stored in directory: /root/.cache/pip/wheels/28/6d/b6/fd4b9b1489353528a2eea1200c98532fd60d535e22498d9e28\n",
            "Successfully built memoized-property tinytimer typechecks progressbar33\n",
            "Installing collected packages: typechecks, tinytimer, progressbar33, memoized-property, appdirs, tomlkit, simplejson, mock, mccabe, lazy-object-proxy, isort, dill, serializable, gtfparse, astroid, pylint, datacache, pyensembl\n",
            "Successfully installed appdirs-1.4.4 astroid-2.15.8 datacache-1.4.1 dill-0.3.8 gtfparse-2.5.0 isort-5.13.2 lazy-object-proxy-1.10.0 mccabe-0.7.0 memoized-property-1.0.3 mock-5.1.0 progressbar33-2.4 pyensembl-2.3.13 pylint-2.17.7 serializable-0.4.1 simplejson-3.19.2 tinytimer-0.0.0 tomlkit-0.13.0 typechecks-0.1.0\n"
          ]
        }
      ],
      "source": [
        "!pip install scanpy\n",
        "!pip install pyensembl"
      ]
    },
    {
      "cell_type": "code",
      "execution_count": 3,
      "metadata": {
        "colab": {
          "base_uri": "https://localhost:8080/"
        },
        "id": "acy9JXiTekSP",
        "outputId": "cc80cbeb-0b17-4b66-ade3-db3310d7bbf9"
      },
      "outputs": [
        {
          "output_type": "stream",
          "name": "stdout",
          "text": [
            "AnnData object with n_obs × n_vars = 10533 × 23272\n",
            "    obs: 'mapped_reference_assembly', 'mapped_reference_annotation', 'alignment_software', 'donor_id', 'self_reported_ethnicity_ontology_term_id', 'donor_living_at_sample_collection', 'organism_ontology_term_id', 'sample_uuid', 'sample_preservation_method', 'tissue_ontology_term_id', 'development_stage_ontology_term_id', 'sample_derivation_process', 'sample_source', 'donor_BMI_at_collection', 'tissue_type', 'suspension_derivation_process', 'suspension_dissociation_reagent', 'suspension_dissociation_time', 'suspension_uuid', 'suspension_type', 'tissue_handling_interval', 'library_uuid', 'assay_ontology_term_id', 'library_starting_quantity', 'sequencing_platform', 'is_primary_data', 'cell_type_ontology_term_id', 'author_cell_type', 'disease_ontology_term_id', 'sex_ontology_term_id', 'nCount_RNA', 'nFeature_RNA', 'nUMI', 'nGene', 'mitoRatio', 'scDblFinder.score', 'decontX_contamination', 'cell_type', 'assay', 'disease', 'organism', 'sex', 'tissue', 'self_reported_ethnicity', 'development_stage', 'observation_joinid'\n",
            "    var: 'vst.mean', 'vst.variance', 'vst.variance.expected', 'vst.variance.standardized', 'feature_is_filtered', 'feature_name', 'feature_reference', 'feature_biotype', 'feature_length'\n",
            "    uns: 'citation', 'default_embedding', 'schema_reference', 'schema_version', 'title'\n",
            "    obsm: 'X_harmony', 'X_pca', 'X_tsne', 'X_umap'\n"
          ]
        }
      ],
      "source": [
        "import scanpy as sc\n",
        "\n",
        "# URL для скачивания\n",
        "url = 'Dataset2.h5ad'\n",
        "\n",
        "# Загрузка данных из файла .h5ad и создание объекта AnnData\n",
        "adata = sc.read_h5ad(url)\n",
        "\n",
        "# Просмотр информации о загруженных данных\n",
        "print(adata)\n"
      ]
    },
    {
      "cell_type": "code",
      "source": [],
      "metadata": {
        "id": "oKwyArUCBzdo"
      },
      "execution_count": null,
      "outputs": []
    },
    {
      "cell_type": "code",
      "execution_count": 4,
      "metadata": {
        "colab": {
          "base_uri": "https://localhost:8080/",
          "height": 443
        },
        "id": "EleSqDQYgLa6",
        "outputId": "f06c76ab-c8bd-4ab8-bf87-05b3dd98673d"
      },
      "outputs": [
        {
          "output_type": "execute_result",
          "data": {
            "text/plain": [
              "                 vst.mean  vst.variance  vst.variance.expected  \\\n",
              "ENSG00000001460  0.039970      0.048820               0.057396   \n",
              "ENSG00000001461  0.039875      0.059367               0.057249   \n",
              "ENSG00000010072  0.050223      0.063087               0.073751   \n",
              "ENSG00000009780  0.156081      0.208261               0.271665   \n",
              "ENSG00000048707  1.391436      3.137591               5.415922   \n",
              "...                   ...           ...                    ...   \n",
              "ENSG00000261696  0.000475      0.000475               0.000508   \n",
              "ENSG00000126752  0.000285      0.000285               0.000297   \n",
              "ENSG00000228459  0.000949      0.002278               0.001055   \n",
              "ENSG00000278057  0.000095      0.000095               0.000094   \n",
              "ENSG00000287796  0.000095      0.000095               0.000094   \n",
              "\n",
              "                 vst.variance.standardized  feature_is_filtered  \\\n",
              "ENSG00000001460                   0.850581                False   \n",
              "ENSG00000001461                   1.037001                False   \n",
              "ENSG00000010072                   0.855409                False   \n",
              "ENSG00000009780                   0.766610                False   \n",
              "ENSG00000048707                   0.579327                False   \n",
              "...                                    ...                  ...   \n",
              "ENSG00000261696                   0.934407                False   \n",
              "ENSG00000126752                   0.959390                False   \n",
              "ENSG00000228459                   1.719799                False   \n",
              "ENSG00000278057                   1.000190                False   \n",
              "ENSG00000287796                   1.000190                False   \n",
              "\n",
              "                      feature_name feature_reference feature_biotype  \\\n",
              "ENSG00000001460              STPG1    NCBITaxon:9606            gene   \n",
              "ENSG00000001461             NIPAL3    NCBITaxon:9606            gene   \n",
              "ENSG00000010072              SPRTN    NCBITaxon:9606            gene   \n",
              "ENSG00000009780             FAM76A    NCBITaxon:9606            gene   \n",
              "ENSG00000048707             VPS13D    NCBITaxon:9606            gene   \n",
              "...                            ...               ...             ...   \n",
              "ENSG00000261696  ENSG00000261696.1    NCBITaxon:9606            gene   \n",
              "ENSG00000126752               SSX1    NCBITaxon:9606            gene   \n",
              "ENSG00000228459          LINC01546    NCBITaxon:9606            gene   \n",
              "ENSG00000278057              TEX28    NCBITaxon:9606            gene   \n",
              "ENSG00000287796  ENSG00000287796.1    NCBITaxon:9606            gene   \n",
              "\n",
              "                feature_length  \n",
              "ENSG00000001460           8511  \n",
              "ENSG00000001461           9396  \n",
              "ENSG00000010072           5906  \n",
              "ENSG00000009780           4046  \n",
              "ENSG00000048707          20768  \n",
              "...                        ...  \n",
              "ENSG00000261696           1459  \n",
              "ENSG00000126752           1223  \n",
              "ENSG00000228459           5109  \n",
              "ENSG00000278057           1901  \n",
              "ENSG00000287796           3691  \n",
              "\n",
              "[23272 rows x 9 columns]"
            ],
            "text/html": [
              "\n",
              "  <div id=\"df-d5537e7b-8e09-4104-8b9b-a97f62ba8561\" class=\"colab-df-container\">\n",
              "    <div>\n",
              "<style scoped>\n",
              "    .dataframe tbody tr th:only-of-type {\n",
              "        vertical-align: middle;\n",
              "    }\n",
              "\n",
              "    .dataframe tbody tr th {\n",
              "        vertical-align: top;\n",
              "    }\n",
              "\n",
              "    .dataframe thead th {\n",
              "        text-align: right;\n",
              "    }\n",
              "</style>\n",
              "<table border=\"1\" class=\"dataframe\">\n",
              "  <thead>\n",
              "    <tr style=\"text-align: right;\">\n",
              "      <th></th>\n",
              "      <th>vst.mean</th>\n",
              "      <th>vst.variance</th>\n",
              "      <th>vst.variance.expected</th>\n",
              "      <th>vst.variance.standardized</th>\n",
              "      <th>feature_is_filtered</th>\n",
              "      <th>feature_name</th>\n",
              "      <th>feature_reference</th>\n",
              "      <th>feature_biotype</th>\n",
              "      <th>feature_length</th>\n",
              "    </tr>\n",
              "  </thead>\n",
              "  <tbody>\n",
              "    <tr>\n",
              "      <th>ENSG00000001460</th>\n",
              "      <td>0.039970</td>\n",
              "      <td>0.048820</td>\n",
              "      <td>0.057396</td>\n",
              "      <td>0.850581</td>\n",
              "      <td>False</td>\n",
              "      <td>STPG1</td>\n",
              "      <td>NCBITaxon:9606</td>\n",
              "      <td>gene</td>\n",
              "      <td>8511</td>\n",
              "    </tr>\n",
              "    <tr>\n",
              "      <th>ENSG00000001461</th>\n",
              "      <td>0.039875</td>\n",
              "      <td>0.059367</td>\n",
              "      <td>0.057249</td>\n",
              "      <td>1.037001</td>\n",
              "      <td>False</td>\n",
              "      <td>NIPAL3</td>\n",
              "      <td>NCBITaxon:9606</td>\n",
              "      <td>gene</td>\n",
              "      <td>9396</td>\n",
              "    </tr>\n",
              "    <tr>\n",
              "      <th>ENSG00000010072</th>\n",
              "      <td>0.050223</td>\n",
              "      <td>0.063087</td>\n",
              "      <td>0.073751</td>\n",
              "      <td>0.855409</td>\n",
              "      <td>False</td>\n",
              "      <td>SPRTN</td>\n",
              "      <td>NCBITaxon:9606</td>\n",
              "      <td>gene</td>\n",
              "      <td>5906</td>\n",
              "    </tr>\n",
              "    <tr>\n",
              "      <th>ENSG00000009780</th>\n",
              "      <td>0.156081</td>\n",
              "      <td>0.208261</td>\n",
              "      <td>0.271665</td>\n",
              "      <td>0.766610</td>\n",
              "      <td>False</td>\n",
              "      <td>FAM76A</td>\n",
              "      <td>NCBITaxon:9606</td>\n",
              "      <td>gene</td>\n",
              "      <td>4046</td>\n",
              "    </tr>\n",
              "    <tr>\n",
              "      <th>ENSG00000048707</th>\n",
              "      <td>1.391436</td>\n",
              "      <td>3.137591</td>\n",
              "      <td>5.415922</td>\n",
              "      <td>0.579327</td>\n",
              "      <td>False</td>\n",
              "      <td>VPS13D</td>\n",
              "      <td>NCBITaxon:9606</td>\n",
              "      <td>gene</td>\n",
              "      <td>20768</td>\n",
              "    </tr>\n",
              "    <tr>\n",
              "      <th>...</th>\n",
              "      <td>...</td>\n",
              "      <td>...</td>\n",
              "      <td>...</td>\n",
              "      <td>...</td>\n",
              "      <td>...</td>\n",
              "      <td>...</td>\n",
              "      <td>...</td>\n",
              "      <td>...</td>\n",
              "      <td>...</td>\n",
              "    </tr>\n",
              "    <tr>\n",
              "      <th>ENSG00000261696</th>\n",
              "      <td>0.000475</td>\n",
              "      <td>0.000475</td>\n",
              "      <td>0.000508</td>\n",
              "      <td>0.934407</td>\n",
              "      <td>False</td>\n",
              "      <td>ENSG00000261696.1</td>\n",
              "      <td>NCBITaxon:9606</td>\n",
              "      <td>gene</td>\n",
              "      <td>1459</td>\n",
              "    </tr>\n",
              "    <tr>\n",
              "      <th>ENSG00000126752</th>\n",
              "      <td>0.000285</td>\n",
              "      <td>0.000285</td>\n",
              "      <td>0.000297</td>\n",
              "      <td>0.959390</td>\n",
              "      <td>False</td>\n",
              "      <td>SSX1</td>\n",
              "      <td>NCBITaxon:9606</td>\n",
              "      <td>gene</td>\n",
              "      <td>1223</td>\n",
              "    </tr>\n",
              "    <tr>\n",
              "      <th>ENSG00000228459</th>\n",
              "      <td>0.000949</td>\n",
              "      <td>0.002278</td>\n",
              "      <td>0.001055</td>\n",
              "      <td>1.719799</td>\n",
              "      <td>False</td>\n",
              "      <td>LINC01546</td>\n",
              "      <td>NCBITaxon:9606</td>\n",
              "      <td>gene</td>\n",
              "      <td>5109</td>\n",
              "    </tr>\n",
              "    <tr>\n",
              "      <th>ENSG00000278057</th>\n",
              "      <td>0.000095</td>\n",
              "      <td>0.000095</td>\n",
              "      <td>0.000094</td>\n",
              "      <td>1.000190</td>\n",
              "      <td>False</td>\n",
              "      <td>TEX28</td>\n",
              "      <td>NCBITaxon:9606</td>\n",
              "      <td>gene</td>\n",
              "      <td>1901</td>\n",
              "    </tr>\n",
              "    <tr>\n",
              "      <th>ENSG00000287796</th>\n",
              "      <td>0.000095</td>\n",
              "      <td>0.000095</td>\n",
              "      <td>0.000094</td>\n",
              "      <td>1.000190</td>\n",
              "      <td>False</td>\n",
              "      <td>ENSG00000287796.1</td>\n",
              "      <td>NCBITaxon:9606</td>\n",
              "      <td>gene</td>\n",
              "      <td>3691</td>\n",
              "    </tr>\n",
              "  </tbody>\n",
              "</table>\n",
              "<p>23272 rows × 9 columns</p>\n",
              "</div>\n",
              "    <div class=\"colab-df-buttons\">\n",
              "\n",
              "  <div class=\"colab-df-container\">\n",
              "    <button class=\"colab-df-convert\" onclick=\"convertToInteractive('df-d5537e7b-8e09-4104-8b9b-a97f62ba8561')\"\n",
              "            title=\"Convert this dataframe to an interactive table.\"\n",
              "            style=\"display:none;\">\n",
              "\n",
              "  <svg xmlns=\"http://www.w3.org/2000/svg\" height=\"24px\" viewBox=\"0 -960 960 960\">\n",
              "    <path d=\"M120-120v-720h720v720H120Zm60-500h600v-160H180v160Zm220 220h160v-160H400v160Zm0 220h160v-160H400v160ZM180-400h160v-160H180v160Zm440 0h160v-160H620v160ZM180-180h160v-160H180v160Zm440 0h160v-160H620v160Z\"/>\n",
              "  </svg>\n",
              "    </button>\n",
              "\n",
              "  <style>\n",
              "    .colab-df-container {\n",
              "      display:flex;\n",
              "      gap: 12px;\n",
              "    }\n",
              "\n",
              "    .colab-df-convert {\n",
              "      background-color: #E8F0FE;\n",
              "      border: none;\n",
              "      border-radius: 50%;\n",
              "      cursor: pointer;\n",
              "      display: none;\n",
              "      fill: #1967D2;\n",
              "      height: 32px;\n",
              "      padding: 0 0 0 0;\n",
              "      width: 32px;\n",
              "    }\n",
              "\n",
              "    .colab-df-convert:hover {\n",
              "      background-color: #E2EBFA;\n",
              "      box-shadow: 0px 1px 2px rgba(60, 64, 67, 0.3), 0px 1px 3px 1px rgba(60, 64, 67, 0.15);\n",
              "      fill: #174EA6;\n",
              "    }\n",
              "\n",
              "    .colab-df-buttons div {\n",
              "      margin-bottom: 4px;\n",
              "    }\n",
              "\n",
              "    [theme=dark] .colab-df-convert {\n",
              "      background-color: #3B4455;\n",
              "      fill: #D2E3FC;\n",
              "    }\n",
              "\n",
              "    [theme=dark] .colab-df-convert:hover {\n",
              "      background-color: #434B5C;\n",
              "      box-shadow: 0px 1px 3px 1px rgba(0, 0, 0, 0.15);\n",
              "      filter: drop-shadow(0px 1px 2px rgba(0, 0, 0, 0.3));\n",
              "      fill: #FFFFFF;\n",
              "    }\n",
              "  </style>\n",
              "\n",
              "    <script>\n",
              "      const buttonEl =\n",
              "        document.querySelector('#df-d5537e7b-8e09-4104-8b9b-a97f62ba8561 button.colab-df-convert');\n",
              "      buttonEl.style.display =\n",
              "        google.colab.kernel.accessAllowed ? 'block' : 'none';\n",
              "\n",
              "      async function convertToInteractive(key) {\n",
              "        const element = document.querySelector('#df-d5537e7b-8e09-4104-8b9b-a97f62ba8561');\n",
              "        const dataTable =\n",
              "          await google.colab.kernel.invokeFunction('convertToInteractive',\n",
              "                                                    [key], {});\n",
              "        if (!dataTable) return;\n",
              "\n",
              "        const docLinkHtml = 'Like what you see? Visit the ' +\n",
              "          '<a target=\"_blank\" href=https://colab.research.google.com/notebooks/data_table.ipynb>data table notebook</a>'\n",
              "          + ' to learn more about interactive tables.';\n",
              "        element.innerHTML = '';\n",
              "        dataTable['output_type'] = 'display_data';\n",
              "        await google.colab.output.renderOutput(dataTable, element);\n",
              "        const docLink = document.createElement('div');\n",
              "        docLink.innerHTML = docLinkHtml;\n",
              "        element.appendChild(docLink);\n",
              "      }\n",
              "    </script>\n",
              "  </div>\n",
              "\n",
              "\n",
              "<div id=\"df-bd4939b6-6625-47f2-898e-39433216ec04\">\n",
              "  <button class=\"colab-df-quickchart\" onclick=\"quickchart('df-bd4939b6-6625-47f2-898e-39433216ec04')\"\n",
              "            title=\"Suggest charts\"\n",
              "            style=\"display:none;\">\n",
              "\n",
              "<svg xmlns=\"http://www.w3.org/2000/svg\" height=\"24px\"viewBox=\"0 0 24 24\"\n",
              "     width=\"24px\">\n",
              "    <g>\n",
              "        <path d=\"M19 3H5c-1.1 0-2 .9-2 2v14c0 1.1.9 2 2 2h14c1.1 0 2-.9 2-2V5c0-1.1-.9-2-2-2zM9 17H7v-7h2v7zm4 0h-2V7h2v10zm4 0h-2v-4h2v4z\"/>\n",
              "    </g>\n",
              "</svg>\n",
              "  </button>\n",
              "\n",
              "<style>\n",
              "  .colab-df-quickchart {\n",
              "      --bg-color: #E8F0FE;\n",
              "      --fill-color: #1967D2;\n",
              "      --hover-bg-color: #E2EBFA;\n",
              "      --hover-fill-color: #174EA6;\n",
              "      --disabled-fill-color: #AAA;\n",
              "      --disabled-bg-color: #DDD;\n",
              "  }\n",
              "\n",
              "  [theme=dark] .colab-df-quickchart {\n",
              "      --bg-color: #3B4455;\n",
              "      --fill-color: #D2E3FC;\n",
              "      --hover-bg-color: #434B5C;\n",
              "      --hover-fill-color: #FFFFFF;\n",
              "      --disabled-bg-color: #3B4455;\n",
              "      --disabled-fill-color: #666;\n",
              "  }\n",
              "\n",
              "  .colab-df-quickchart {\n",
              "    background-color: var(--bg-color);\n",
              "    border: none;\n",
              "    border-radius: 50%;\n",
              "    cursor: pointer;\n",
              "    display: none;\n",
              "    fill: var(--fill-color);\n",
              "    height: 32px;\n",
              "    padding: 0;\n",
              "    width: 32px;\n",
              "  }\n",
              "\n",
              "  .colab-df-quickchart:hover {\n",
              "    background-color: var(--hover-bg-color);\n",
              "    box-shadow: 0 1px 2px rgba(60, 64, 67, 0.3), 0 1px 3px 1px rgba(60, 64, 67, 0.15);\n",
              "    fill: var(--button-hover-fill-color);\n",
              "  }\n",
              "\n",
              "  .colab-df-quickchart-complete:disabled,\n",
              "  .colab-df-quickchart-complete:disabled:hover {\n",
              "    background-color: var(--disabled-bg-color);\n",
              "    fill: var(--disabled-fill-color);\n",
              "    box-shadow: none;\n",
              "  }\n",
              "\n",
              "  .colab-df-spinner {\n",
              "    border: 2px solid var(--fill-color);\n",
              "    border-color: transparent;\n",
              "    border-bottom-color: var(--fill-color);\n",
              "    animation:\n",
              "      spin 1s steps(1) infinite;\n",
              "  }\n",
              "\n",
              "  @keyframes spin {\n",
              "    0% {\n",
              "      border-color: transparent;\n",
              "      border-bottom-color: var(--fill-color);\n",
              "      border-left-color: var(--fill-color);\n",
              "    }\n",
              "    20% {\n",
              "      border-color: transparent;\n",
              "      border-left-color: var(--fill-color);\n",
              "      border-top-color: var(--fill-color);\n",
              "    }\n",
              "    30% {\n",
              "      border-color: transparent;\n",
              "      border-left-color: var(--fill-color);\n",
              "      border-top-color: var(--fill-color);\n",
              "      border-right-color: var(--fill-color);\n",
              "    }\n",
              "    40% {\n",
              "      border-color: transparent;\n",
              "      border-right-color: var(--fill-color);\n",
              "      border-top-color: var(--fill-color);\n",
              "    }\n",
              "    60% {\n",
              "      border-color: transparent;\n",
              "      border-right-color: var(--fill-color);\n",
              "    }\n",
              "    80% {\n",
              "      border-color: transparent;\n",
              "      border-right-color: var(--fill-color);\n",
              "      border-bottom-color: var(--fill-color);\n",
              "    }\n",
              "    90% {\n",
              "      border-color: transparent;\n",
              "      border-bottom-color: var(--fill-color);\n",
              "    }\n",
              "  }\n",
              "</style>\n",
              "\n",
              "  <script>\n",
              "    async function quickchart(key) {\n",
              "      const quickchartButtonEl =\n",
              "        document.querySelector('#' + key + ' button');\n",
              "      quickchartButtonEl.disabled = true;  // To prevent multiple clicks.\n",
              "      quickchartButtonEl.classList.add('colab-df-spinner');\n",
              "      try {\n",
              "        const charts = await google.colab.kernel.invokeFunction(\n",
              "            'suggestCharts', [key], {});\n",
              "      } catch (error) {\n",
              "        console.error('Error during call to suggestCharts:', error);\n",
              "      }\n",
              "      quickchartButtonEl.classList.remove('colab-df-spinner');\n",
              "      quickchartButtonEl.classList.add('colab-df-quickchart-complete');\n",
              "    }\n",
              "    (() => {\n",
              "      let quickchartButtonEl =\n",
              "        document.querySelector('#df-bd4939b6-6625-47f2-898e-39433216ec04 button');\n",
              "      quickchartButtonEl.style.display =\n",
              "        google.colab.kernel.accessAllowed ? 'block' : 'none';\n",
              "    })();\n",
              "  </script>\n",
              "</div>\n",
              "    </div>\n",
              "  </div>\n"
            ],
            "application/vnd.google.colaboratory.intrinsic+json": {
              "type": "dataframe",
              "summary": "{\n  \"name\": \"adata\",\n  \"rows\": 23272,\n  \"fields\": [\n    {\n      \"column\": \"vst.mean\",\n      \"properties\": {\n        \"dtype\": \"number\",\n        \"std\": 0.7166741425226513,\n        \"min\": 0.0,\n        \"max\": 48.8528434444128,\n        \"num_unique_values\": 4946,\n        \"samples\": [\n          0.04386214753631444,\n          0.011962403873540303,\n          3.180100636096079\n        ],\n        \"semantic_type\": \"\",\n        \"description\": \"\"\n      }\n    },\n    {\n      \"column\": \"vst.variance\",\n      \"properties\": {\n        \"dtype\": \"number\",\n        \"std\": 41.4979253271818,\n        \"min\": 0.0,\n        \"max\": 3841.488870545229,\n        \"num_unique_values\": 15656,\n        \"samples\": [\n          0.3388485806765172,\n          0.07041784543533484,\n          0.010457953768289906\n        ],\n        \"semantic_type\": \"\",\n        \"description\": \"\"\n      }\n    },\n    {\n      \"column\": \"vst.variance.expected\",\n      \"properties\": {\n        \"dtype\": \"number\",\n        \"std\": 50.47478582623424,\n        \"min\": 0.0,\n        \"max\": 5515.529507355137,\n        \"num_unique_values\": 4946,\n        \"samples\": [\n          0.06352090166102635,\n          0.01588186291089422,\n          21.66354313329096\n        ],\n        \"semantic_type\": \"\",\n        \"description\": \"\"\n      }\n    },\n    {\n      \"column\": \"vst.variance.standardized\",\n      \"properties\": {\n        \"dtype\": \"number\",\n        \"std\": 0.6320554692078877,\n        \"min\": 0.0,\n        \"max\": 22.641158765590216,\n        \"num_unique_values\": 15624,\n        \"samples\": [\n          0.7844836287885735,\n          1.046182737802941,\n          1.5913467484615988\n        ],\n        \"semantic_type\": \"\",\n        \"description\": \"\"\n      }\n    },\n    {\n      \"column\": \"feature_is_filtered\",\n      \"properties\": {\n        \"dtype\": \"boolean\",\n        \"num_unique_values\": 1,\n        \"samples\": [\n          false\n        ],\n        \"semantic_type\": \"\",\n        \"description\": \"\"\n      }\n    },\n    {\n      \"column\": \"feature_name\",\n      \"properties\": {\n        \"dtype\": \"category\",\n        \"num_unique_values\": 23272,\n        \"samples\": [\n          \"SENP7\"\n        ],\n        \"semantic_type\": \"\",\n        \"description\": \"\"\n      }\n    },\n    {\n      \"column\": \"feature_reference\",\n      \"properties\": {\n        \"dtype\": \"category\",\n        \"num_unique_values\": 1,\n        \"samples\": [\n          \"NCBITaxon:9606\"\n        ],\n        \"semantic_type\": \"\",\n        \"description\": \"\"\n      }\n    },\n    {\n      \"column\": \"feature_biotype\",\n      \"properties\": {\n        \"dtype\": \"category\",\n        \"num_unique_values\": 1,\n        \"samples\": [\n          \"gene\"\n        ],\n        \"semantic_type\": \"\",\n        \"description\": \"\"\n      }\n    },\n    {\n      \"column\": \"feature_length\",\n      \"properties\": {\n        \"dtype\": \"category\",\n        \"num_unique_values\": 10472,\n        \"samples\": [\n          11841\n        ],\n        \"semantic_type\": \"\",\n        \"description\": \"\"\n      }\n    }\n  ]\n}"
            }
          },
          "metadata": {},
          "execution_count": 4
        }
      ],
      "source": [
        "adata.var"
      ]
    },
    {
      "cell_type": "code",
      "execution_count": 5,
      "metadata": {
        "colab": {
          "base_uri": "https://localhost:8080/",
          "height": 447
        },
        "id": "aEvXUAMHgOGq",
        "outputId": "3a02aab4-8a21-475a-e680-dc61052e1bcb"
      },
      "outputs": [
        {
          "output_type": "execute_result",
          "data": {
            "text/plain": [
              "<Axes: ylabel='Count'>"
            ]
          },
          "metadata": {},
          "execution_count": 5
        },
        {
          "output_type": "display_data",
          "data": {
            "text/plain": [
              "<Figure size 640x480 with 1 Axes>"
            ],
            "image/png": "[encoded data removed]"
          },
          "metadata": {}
        }
      ],
      "source": [
        "# Построение гистограммы UMI на клетку\n",
        "\n",
        "import seaborn as sns\n",
        "import numpy as np\n",
        "\n",
        "counts_per_cell = adata.X.sum(axis=1).A.T[0]\n",
        "\n",
        "sns.histplot(counts_per_cell)\n",
        "#sns.histplot(adata.obs['total_counts'])\n",
        "#counts_per_cell[:5]"
      ]
    },
    {
      "cell_type": "code",
      "execution_count": 6,
      "metadata": {
        "colab": {
          "base_uri": "https://localhost:8080/",
          "height": 447
        },
        "id": "Y-7pl7yMgvbv",
        "outputId": "f2c6f0ae-7376-406f-9f54-0d3458287a20"
      },
      "outputs": [
        {
          "output_type": "execute_result",
          "data": {
            "text/plain": [
              "<Axes: ylabel='Count'>"
            ]
          },
          "metadata": {},
          "execution_count": 6
        },
        {
          "output_type": "display_data",
          "data": {
            "text/plain": [
              "<Figure size 640x480 with 1 Axes>"
            ],
            "image/png": "[encoded data removed]"
          },
          "metadata": {}
        }
      ],
      "source": [
        "#Гистограмма генов на клетку\n",
        "genes_per_cell = (adata.X > 0).sum(axis=1).T.A[0]\n",
        "sns.histplot(genes_per_cell)"
      ]
    },
    {
      "cell_type": "code",
      "execution_count": 11,
      "metadata": {
        "id": "0i71Damdlf-l"
      },
      "outputs": [],
      "source": [
        "#Выполняем чистку дублетов\n",
        "\n",
        "sc.pp.scrublet(adata)"
      ]
    },
    {
      "cell_type": "markdown",
      "source": [
        "Скачанные данные выглядят уже предварительно качественно обработанными и готовыми к использованию"
      ],
      "metadata": {
        "id": "6RROwMkhAZjw"
      }
    },
    {
      "cell_type": "code",
      "source": [
        "!pip install loompy"
      ],
      "metadata": {
        "colab": {
          "base_uri": "https://localhost:8080/"
        },
        "id": "w2OwNrWLArKI",
        "outputId": "fe2f3543-0d1f-4072-c2b7-edba58a8fc27"
      },
      "execution_count": 14,
      "outputs": [
        {
          "output_type": "stream",
          "name": "stdout",
          "text": [
            "Collecting loompy\n",
            "  Downloading loompy-3.0.7.tar.gz (4.8 MB)\n",
            "\u001b[2K     \u001b[90m━━━━━━━━━━━━━━━━━━━━━━━━━━━━━━━━━━━━━━━━\u001b[0m \u001b[32m4.8/4.8 MB\u001b[0m \u001b[31m12.3 MB/s\u001b[0m eta \u001b[36m0:00:00\u001b[0m\n",
            "\u001b[?25h  Preparing metadata (setup.py) ... \u001b[?25l\u001b[?25hdone\n",
            "Requirement already satisfied: h5py in /usr/local/lib/python3.10/dist-packages (from loompy) (3.9.0)\n",
            "Requirement already satisfied: numpy in /usr/local/lib/python3.10/dist-packages (from loompy) (1.25.2)\n",
            "Requirement already satisfied: scipy in /usr/local/lib/python3.10/dist-packages (from loompy) (1.11.4)\n",
            "Requirement already satisfied: setuptools in /usr/local/lib/python3.10/dist-packages (from loompy) (67.7.2)\n",
            "Requirement already satisfied: numba in /usr/local/lib/python3.10/dist-packages (from loompy) (0.58.1)\n",
            "Requirement already satisfied: click in /usr/local/lib/python3.10/dist-packages (from loompy) (8.1.7)\n",
            "Collecting numpy-groupies (from loompy)\n",
            "  Downloading numpy_groupies-0.11.1-py3-none-any.whl (40 kB)\n",
            "\u001b[2K     \u001b[90m━━━━━━━━━━━━━━━━━━━━━━━━━━━━━━━━━━━━━━━━\u001b[0m \u001b[32m40.5/40.5 kB\u001b[0m \u001b[31m4.4 MB/s\u001b[0m eta \u001b[36m0:00:00\u001b[0m\n",
            "\u001b[?25hRequirement already satisfied: llvmlite<0.42,>=0.41.0dev0 in /usr/local/lib/python3.10/dist-packages (from numba->loompy) (0.41.1)\n",
            "Building wheels for collected packages: loompy\n",
            "  Building wheel for loompy (setup.py) ... \u001b[?25l\u001b[?25hdone\n",
            "  Created wheel for loompy: filename=loompy-3.0.7-py3-none-any.whl size=52019 sha256=a4bd77e6e34847de9b7c4f0e3ff696fdad3757678aaebe064f4c634c41cd4b00\n",
            "  Stored in directory: /root/.cache/pip/wheels/2c/22/1f/792a4621bb631e538bf1c21feae9bbaa6b19fd6d6ab382d1fd\n",
            "Successfully built loompy\n",
            "Installing collected packages: numpy-groupies, loompy\n",
            "Successfully installed loompy-3.0.7 numpy-groupies-0.11.1\n"
          ]
        }
      ]
    },
    {
      "cell_type": "code",
      "source": [
        "# Сохранение объекта AnnData в loom формат\n",
        "adata.write_loom(\"output.loom\")"
      ],
      "metadata": {
        "colab": {
          "base_uri": "https://localhost:8080/"
        },
        "id": "ckygzVEm_26a",
        "outputId": "e2d1cb8c-a47d-4daa-bc3d-d2b7886d42db"
      },
      "execution_count": 15,
      "outputs": [
        {
          "output_type": "stream",
          "name": "stderr",
          "text": [
            "The loom file will lack these fields:\n",
            "{'X_pca', 'X_harmony', 'X_tsne', 'X_umap'}\n",
            "Use write_obsm_varm=True to export multi-dimensional annotations\n",
            "/usr/local/lib/python3.10/dist-packages/loompy/bus_file.py:68: NumbaDeprecationWarning: The 'nopython' keyword argument was not supplied to the 'numba.jit' decorator. The implicit default value for this argument is currently False, but it will be changed to True in Numba 0.59.0. See https://numba.readthedocs.io/en/stable/reference/deprecation.html#deprecation-of-object-mode-fall-back-behaviour-when-using-jit for details.\n",
            "  def twobit_to_dna(twobit: int, size: int) -> str:\n",
            "/usr/local/lib/python3.10/dist-packages/loompy/bus_file.py:85: NumbaDeprecationWarning: The 'nopython' keyword argument was not supplied to the 'numba.jit' decorator. The implicit default value for this argument is currently False, but it will be changed to True in Numba 0.59.0. See https://numba.readthedocs.io/en/stable/reference/deprecation.html#deprecation-of-object-mode-fall-back-behaviour-when-using-jit for details.\n",
            "  def dna_to_twobit(dna: str) -> int:\n",
            "/usr/local/lib/python3.10/dist-packages/loompy/bus_file.py:102: NumbaDeprecationWarning: The 'nopython' keyword argument was not supplied to the 'numba.jit' decorator. The implicit default value for this argument is currently False, but it will be changed to True in Numba 0.59.0. See https://numba.readthedocs.io/en/stable/reference/deprecation.html#deprecation-of-object-mode-fall-back-behaviour-when-using-jit for details.\n",
            "  def twobit_1hamming(twobit: int, size: int) -> List[int]:\n"
          ]
        }
      ]
    },
    {
      "cell_type": "markdown",
      "source": [
        "Эффективность хранения:\n",
        "\n",
        "Loom формат основан на HDF5, что обеспечивает высокую эффективность хранения и быстроту доступа к данным.\n",
        "\n",
        "Универсальность:\n",
        "\n",
        "Loom может хранить данные различных типов: числовые матрицы (например, выражение генов), аннотации, метаданные и другие связанные с экспериментом данные.\n",
        "\n",
        "Совместимость с несколькими платформами:\n",
        "\n",
        "Поддерживается различными инструментами для анализа данных о секвенировании одиночных клеток, включая Scanpy, Seurat, и loompy.\n",
        "\n",
        "Чтение и запись данных:\n",
        "\n",
        "Loom формат позволяет быстро читать и записывать большие объемы данных. Данные могут быть загружены частями, что снижает потребление памяти.\n",
        "\n",
        "Атрибуты:\n",
        "\n",
        "Loom файлы могут содержать атрибуты, которые обеспечивают дополнительную информацию о данных, например, описание эксперимента, версии инструментов и другие метаданные.\n",
        "\n",
        "Многомерные данные:\n",
        "\n",
        "Поддерживает хранение многомерных данных, таких как временные ряды или пространственные данные.\n",
        "\n",
        "Поддержка ссылок:\n",
        "\n",
        "Loom формат поддерживает ссылки на другие объекты внутри файла, что позволяет создавать сложные связи между различными наборами данных."
      ],
      "metadata": {
        "id": "15GEokKyBD4J"
      }
    },
    {
      "cell_type": "code",
      "source": [],
      "metadata": {
        "id": "ovcxK2icBhI0"
      },
      "execution_count": null,
      "outputs": []
    }
  ],
  "metadata": {
    "colab": {
      "provenance": [],
      "include_colab_link": true
    },
    "kernelspec": {
      "display_name": "Python 3",
      "name": "python3"
    },
    "language_info": {
      "name": "python"
    }
  },
  "nbformat": 4,
  "nbformat_minor": 0
}